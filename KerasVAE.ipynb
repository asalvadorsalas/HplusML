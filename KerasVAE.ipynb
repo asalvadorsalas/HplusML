{
 "cells": [
  {
   "cell_type": "markdown",
   "metadata": {
    "colab_type": "text",
    "id": "SToXn9cW3IOE"
   },
   "source": [
    "# Documentation for Standard Keras Neural Network\n",
    "- ROC AUC for different masses\n",
    "- learning curve\n",
    "- validation curves"
   ]
  },
  {
   "cell_type": "markdown",
   "metadata": {
    "colab_type": "text",
    "id": "CLErMjtd3IPo"
   },
   "source": [
    "# Standard imports"
   ]
  },
  {
   "cell_type": "code",
   "execution_count": null,
   "metadata": {
    "colab": {
     "base_uri": "https://localhost:8080/",
     "height": 219
    },
    "colab_type": "code",
    "id": "sicod41w3L1U",
    "outputId": "f56ad785-c000-4966-d5d3-02315926f6ab"
   },
   "outputs": [
    {
     "name": "stdout",
     "output_type": "stream",
     "text": [
      "--2019-02-27 13:41:46--  https://jglatzer.web.cern.ch/jglatzer/hpml/pandas_ge6jge4b.h5\n",
      "Resolving jglatzer.web.cern.ch (jglatzer.web.cern.ch)... 188.184.64.89, 2001:1458:201:a4::100:53\n",
      "Connecting to jglatzer.web.cern.ch (jglatzer.web.cern.ch)|188.184.64.89|:443... connected.\n",
      "HTTP request sent, awaiting response... 200 OK\n",
      "Length: 83895032 (80M) [text/plain]\n",
      "Saving to: ‘pandas_ge6jge4b.h5.1’\n",
      "\n",
      "pandas_ge6jge4b.h5. 100%[===================>]  80.01M  19.0MB/s    in 7.7s    \n",
      "\n",
      "2019-02-27 13:41:55 (10.4 MB/s) - ‘pandas_ge6jge4b.h5.1’ saved [83895032/83895032]\n",
      "\n"
     ]
    }
   ],
   "source": [
    "! wget https://jglatzer.web.cern.ch/jglatzer/hpml/pandas_ge6jge4b.h5"
   ]
  },
  {
   "cell_type": "code",
   "execution_count": null,
   "metadata": {
    "colab": {
     "base_uri": "https://localhost:8080/",
     "height": 127
    },
    "colab_type": "code",
    "id": "BZ39MhTB4YWM",
    "outputId": "e2c179a8-d21b-4b93-d17b-36079e967cc7"
   },
   "outputs": [
    {
     "name": "stdout",
     "output_type": "stream",
     "text": [
      "Cloning into 'HplusML'...\n",
      "remote: Enumerating objects: 46, done.\u001b[K\n",
      "remote: Counting objects: 100% (46/46), done.\u001b[K\n",
      "remote: Compressing objects: 100% (34/34), done.\u001b[K\n",
      "remote: Total 46 (delta 19), reused 38 (delta 11), pack-reused 0\u001b[K\n",
      "Unpacking objects: 100% (46/46), done.\n"
     ]
    }
   ],
   "source": [
    "\n",
    "! git clone https://github.com/JulianGlatzer/HplusML\n",
    "import sys\n",
    "sys.path.append(\"HplusML\")\n",
    "#! export PYTHONPATH=$PYTHONPATH:`pwd`/HplusML\n",
    "#! echo $PYTHONPATH"
   ]
  },
  {
   "cell_type": "code",
   "execution_count": null,
   "metadata": {
    "colab": {},
    "colab_type": "code",
    "id": "2oG6NzW43IPo"
   },
   "outputs": [],
   "source": [
    "import pandas as pd\n",
    "import numpy as np\n",
    "import matplotlib.pyplot as plt\n",
    "#import HpAlgorithms\n",
    "import HpMLUtils\n",
    "import HpMLPlots\n",
    "import HpHyperParameterOptimisation\n",
    "import HpTrainingFrame"
   ]
  },
  {
   "cell_type": "code",
   "execution_count": null,
   "metadata": {
    "colab": {
     "base_uri": "https://localhost:8080/",
     "height": 35
    },
    "colab_type": "code",
    "id": "0xqlysJb3IPo",
    "outputId": "e85e733a-9be0-421e-c966-27dfaf651ad1"
   },
   "outputs": [
    {
     "data": {
      "text/plain": [
       "array(['ttlight', 'ttc', 'ttb', 'Hp800'], dtype=object)"
      ]
     },
     "execution_count": 156,
     "metadata": {
      "tags": []
     },
     "output_type": "execute_result"
    }
   ],
   "source": [
    "df_mc=pd.read_hdf('pandas_ge6jge4b.h5', 'INC_ge6jge4b')\n",
    "df_mc=df_mc[df_mc.process.apply(lambda x: True if x in [\"ttlight\",\"ttb\",\"ttc\",\"Hp800\"] else False)]\n",
    "#print df_mc.process.shape\n",
    "df_mc['process'].unique()"
   ]
  },
  {
   "cell_type": "code",
   "execution_count": null,
   "metadata": {
    "colab": {
     "base_uri": "https://localhost:8080/",
     "height": 127
    },
    "colab_type": "code",
    "id": "9M04Xq3z3IPo",
    "outputId": "941432df-6cfe-4cca-cfaf-ea0c49289261"
   },
   "outputs": [
    {
     "data": {
      "text/plain": [
       "Index([u'index', u'Muu_MindR_70', u'nJets', u'Mbb_MindR_70', u'HT_jets',\n",
       "       u'H1_all', u'Mjjj_MaxPt', u'Mbb_MaxPt_70', u'dRbb_avg_70',\n",
       "       u'eventNumber', u'pT_jet5', u'dRlepbb_MindR_70', u'nBTags_70',\n",
       "       u'Mbb_MaxM_70', u'jet_pt', u'Centrality_all', u'weight', u'process',\n",
       "       u'group', u'region', u'pT_jet1', u'hpmass'],\n",
       "      dtype='object')"
      ]
     },
     "execution_count": 157,
     "metadata": {
      "tags": []
     },
     "output_type": "execute_result"
    }
   ],
   "source": [
    "df_mc.columns"
   ]
  },
  {
   "cell_type": "markdown",
   "metadata": {
    "colab_type": "text",
    "id": "Lfwh7L5J3IPo"
   },
   "source": [
    "# Prepare data for H+ classification"
   ]
  },
  {
   "cell_type": "markdown",
   "metadata": {
    "colab_type": "text",
    "id": "GhxvNuv73IPo"
   },
   "source": [
    "split into test and training data"
   ]
  },
  {
   "cell_type": "code",
   "execution_count": null,
   "metadata": {
    "colab": {},
    "colab_type": "code",
    "id": "shdNbmxn3IPo"
   },
   "outputs": [],
   "source": [
    "htf=HpTrainingFrame.HpTrainingFrame(df_mc) "
   ]
  },
  {
   "cell_type": "code",
   "execution_count": null,
   "metadata": {
    "colab": {
     "base_uri": "https://localhost:8080/",
     "height": 3690
    },
    "colab_type": "code",
    "id": "DxUXNLJ83IPo",
    "outputId": "1bfb1ae0-a16c-4ac2-a49d-2cf6b5fe56b8"
   },
   "outputs": [
    {
     "name": "stdout",
     "output_type": "stream",
     "text": [
      "X.shape= (23068, 14) y.shape= (23068,) w.shape= (23068,)\n",
      "columns= Index([u'nJets', u'nBTags_70', u'pT_jet1', u'Mbb_MindR_70', u'pT_jet5',\n",
      "       u'H1_all', u'dRbb_avg_70', u'dRlepbb_MindR_70', u'Muu_MindR_70',\n",
      "       u'HT_jets', u'Mbb_MaxPt_70', u'Mbb_MaxM_70', u'Mjjj_MaxPt',\n",
      "       u'Centrality_all'],\n",
      "      dtype='object')\n",
      "categories= [0, 1]\n",
      "\n",
      "sum of weights per category\n",
      "       all 1464.08896891\n",
      "         0 1457.10675797\n",
      "         1 6.98221093499\n",
      "\n",
      "\n",
      "average\n",
      "  variable/class        all          0          1\n",
      "           nJets       6.99       6.99       7.43\n",
      "       nBTags_70       4.06       4.06        4.1\n",
      "         pT_jet1   1.77e+05   1.77e+05   2.96e+05\n",
      "    Mbb_MindR_70   7.76e+04   7.73e+04   1.33e+05\n",
      "         pT_jet5   5.06e+04   5.05e+04   6.68e+04\n",
      "          H1_all      0.226      0.227      0.182\n",
      "     dRbb_avg_70       2.28       2.28       2.42\n",
      "dRlepbb_MindR_70       2.31       2.31       2.17\n",
      "    Muu_MindR_70   1.05e+05   1.05e+05   1.06e+05\n",
      "         HT_jets   5.69e+05   5.68e+05   8.62e+05\n",
      "    Mbb_MaxPt_70   1.66e+05   1.66e+05   2.75e+05\n",
      "     Mbb_MaxM_70   3.18e+05   3.17e+05   5.08e+05\n",
      "      Mjjj_MaxPt   3.03e+05   3.02e+05    4.3e+05\n",
      "  Centrality_all      0.566      0.566      0.608\n",
      "\n",
      "\n",
      "variance\n",
      "  variable/class        all          0          1\n",
      "           nJets       1.32       1.32       1.73\n",
      "       nBTags_70     0.0668     0.0667      0.101\n",
      "         pT_jet1   1.06e+10   1.05e+10   1.12e+10\n",
      "    Mbb_MindR_70    2.5e+09   2.47e+09   7.36e+09\n",
      "         pT_jet5   4.01e+08   3.98e+08   7.05e+08\n",
      "          H1_all     0.0464     0.0465     0.0334\n",
      "     dRbb_avg_70      0.159      0.159      0.133\n",
      "dRlepbb_MindR_70      0.789      0.789       0.87\n",
      "    Muu_MindR_70   1.02e+10   1.02e+10   1.12e+10\n",
      "         HT_jets   5.91e+10   5.87e+10   5.73e+10\n",
      "    Mbb_MaxPt_70   1.86e+10   1.85e+10   3.25e+10\n",
      "     Mbb_MaxM_70   3.65e+10   3.63e+10   4.26e+10\n",
      "      Mjjj_MaxPt   4.93e+10   4.91e+10    6.8e+10\n",
      "  Centrality_all      0.019      0.019     0.0169\n",
      "\n",
      "\n",
      "X.shape= (23068, 14) y.shape= (23068,) w.shape= (23068,)\n",
      "columns= Index([u'nJets', u'nBTags_70', u'pT_jet1', u'Mbb_MindR_70', u'pT_jet5',\n",
      "       u'H1_all', u'dRbb_avg_70', u'dRlepbb_MindR_70', u'Muu_MindR_70',\n",
      "       u'HT_jets', u'Mbb_MaxPt_70', u'Mbb_MaxM_70', u'Mjjj_MaxPt',\n",
      "       u'Centrality_all'],\n",
      "      dtype='object')\n",
      "categories= [0, 1]\n",
      "\n",
      "sum of weights per category\n",
      "       all        1.0\n",
      "         0        0.5\n",
      "         1        0.5\n",
      "\n",
      "\n",
      "average\n",
      "  variable/class        all          0          1\n",
      "           nJets       7.21       6.99       7.43\n",
      "       nBTags_70       4.08       4.06        4.1\n",
      "         pT_jet1   2.36e+05   1.77e+05   2.96e+05\n",
      "    Mbb_MindR_70   1.05e+05   7.73e+04   1.33e+05\n",
      "         pT_jet5   5.86e+04   5.05e+04   6.68e+04\n",
      "          H1_all      0.204      0.227      0.182\n",
      "     dRbb_avg_70       2.35       2.28       2.42\n",
      "dRlepbb_MindR_70       2.24       2.31       2.17\n",
      "    Muu_MindR_70   1.05e+05   1.05e+05   1.06e+05\n",
      "         HT_jets   7.15e+05   5.68e+05   8.62e+05\n",
      "    Mbb_MaxPt_70    2.2e+05   1.66e+05   2.75e+05\n",
      "     Mbb_MaxM_70   4.12e+05   3.17e+05   5.08e+05\n",
      "      Mjjj_MaxPt   3.66e+05   3.02e+05    4.3e+05\n",
      "  Centrality_all      0.587      0.566      0.608\n",
      "\n",
      "\n",
      "variance\n",
      "  variable/class        all          0          1\n",
      "           nJets       1.57       1.32       1.73\n",
      "       nBTags_70     0.0844     0.0667      0.101\n",
      "         pT_jet1   1.44e+10   1.05e+10   1.12e+10\n",
      "    Mbb_MindR_70   5.68e+09   2.47e+09   7.36e+09\n",
      "         pT_jet5   6.18e+08   3.98e+08   7.05e+08\n",
      "          H1_all     0.0404     0.0465     0.0334\n",
      "     dRbb_avg_70      0.151      0.159      0.133\n",
      "dRlepbb_MindR_70      0.835      0.789       0.87\n",
      "    Muu_MindR_70   1.07e+10   1.02e+10   1.12e+10\n",
      "         HT_jets   7.96e+10   5.87e+10   5.73e+10\n",
      "    Mbb_MaxPt_70   2.85e+10   1.85e+10   3.25e+10\n",
      "     Mbb_MaxM_70   4.86e+10   3.63e+10   4.26e+10\n",
      "      Mjjj_MaxPt   6.26e+10   4.91e+10    6.8e+10\n",
      "  Centrality_all     0.0184      0.019     0.0169\n",
      "\n",
      "\n",
      "X.shape= (23068, 14) y.shape= (23068,) w.shape= (23068,)\n",
      "columns= Index([u'nJets', u'nBTags_70', u'pT_jet1', u'Mbb_MindR_70', u'pT_jet5',\n",
      "       u'H1_all', u'dRbb_avg_70', u'dRlepbb_MindR_70', u'Muu_MindR_70',\n",
      "       u'HT_jets', u'Mbb_MaxPt_70', u'Mbb_MaxM_70', u'Mjjj_MaxPt',\n",
      "       u'Centrality_all'],\n",
      "      dtype='object')\n",
      "categories= [0, 1]\n",
      "\n",
      "sum of weights per category\n",
      "       all        1.0\n",
      "         0        0.5\n",
      "         1        0.5\n",
      "\n",
      "\n",
      "average\n",
      "  variable/class        all          0          1\n",
      "           nJets  -1.21e-15     -0.176      0.176\n",
      "       nBTags_70  -8.13e-16    -0.0599     0.0599\n",
      "         pT_jet1  -4.34e-16     -0.495      0.495\n",
      "    Mbb_MindR_70  -4.13e-09     -0.367      0.367\n",
      "         pT_jet5   1.02e-08     -0.327      0.327\n",
      "          H1_all   4.66e-09       0.11      -0.11\n",
      "     dRbb_avg_70   6.07e-09     -0.179      0.179\n",
      "dRlepbb_MindR_70   7.66e-09     0.0779    -0.0779\n",
      "    Muu_MindR_70   7.36e-09   -0.00402    0.00402\n",
      "         HT_jets   7.74e-09     -0.521      0.521\n",
      "    Mbb_MaxPt_70  -5.96e-09     -0.324      0.324\n",
      "     Mbb_MaxM_70  -2.63e-09     -0.434      0.434\n",
      "      Mjjj_MaxPt  -4.36e-09     -0.254      0.254\n",
      "  Centrality_all  -4.84e-09     -0.155      0.155\n",
      "\n",
      "\n",
      "variance\n",
      "  variable/class        all          0          1\n",
      "           nJets        1.0      0.837        1.1\n",
      "       nBTags_70        1.0       0.79        1.2\n",
      "         pT_jet1        1.0       0.73       0.78\n",
      "    Mbb_MindR_70        1.0      0.434        1.3\n",
      "         pT_jet5        1.0      0.644       1.14\n",
      "          H1_all        1.0       1.15      0.825\n",
      "     dRbb_avg_70        1.0       1.05      0.883\n",
      "dRlepbb_MindR_70        1.0      0.945       1.04\n",
      "    Muu_MindR_70        1.0      0.954       1.05\n",
      "         HT_jets        1.0      0.737       0.72\n",
      "    Mbb_MaxPt_70        1.0      0.649       1.14\n",
      "     Mbb_MaxM_70        1.0      0.747      0.877\n",
      "      Mjjj_MaxPt        1.0      0.785       1.09\n",
      "  Centrality_all        1.0       1.03      0.921\n",
      "\n",
      "\n",
      "X.shape= (23217, 14) y.shape= (23217,) w.shape= (23217,)\n",
      "columns= Index([u'nJets', u'nBTags_70', u'pT_jet1', u'Mbb_MindR_70', u'pT_jet5',\n",
      "       u'H1_all', u'dRbb_avg_70', u'dRlepbb_MindR_70', u'Muu_MindR_70',\n",
      "       u'HT_jets', u'Mbb_MaxPt_70', u'Mbb_MaxM_70', u'Mjjj_MaxPt',\n",
      "       u'Centrality_all'],\n",
      "      dtype='object')\n",
      "categories= [0, 1]\n",
      "\n",
      "sum of weights per category\n",
      "       all 1.02716342242\n",
      "         0 0.525622390597\n",
      "         1 0.501541031821\n",
      "\n",
      "\n",
      "average\n",
      "  variable/class        all          0          1\n",
      "           nJets     0.0152     -0.174      0.213\n",
      "       nBTags_70    -0.0102     -0.061      0.043\n",
      "         pT_jet1    -0.0217     -0.511      0.491\n",
      "    Mbb_MindR_70    -0.0102     -0.378      0.375\n",
      "         pT_jet5    0.00851      -0.32      0.353\n",
      "          H1_all    0.00406      0.122      -0.12\n",
      "     dRbb_avg_70    -0.0148     -0.184      0.163\n",
      "dRlepbb_MindR_70     0.0225      0.114    -0.0732\n",
      "    Muu_MindR_70   -0.00651    0.00127    -0.0147\n",
      "         HT_jets   -0.00554     -0.524      0.538\n",
      "    Mbb_MaxPt_70   -0.00547     -0.345       0.35\n",
      "     Mbb_MaxM_70    -0.0291     -0.456      0.418\n",
      "      Mjjj_MaxPt    -0.0122     -0.267      0.255\n",
      "  Centrality_all    -0.0134     -0.184      0.165\n",
      "\n",
      "\n",
      "variance\n",
      "  variable/class        all          0          1\n",
      "           nJets       1.05      0.825       1.21\n",
      "       nBTags_70      0.951       0.75       1.15\n",
      "         pT_jet1      0.996      0.717      0.774\n",
      "    Mbb_MindR_70      0.956      0.378       1.27\n",
      "         pT_jet5       1.07      0.707       1.23\n",
      "          H1_all      0.991       1.15      0.797\n",
      "     dRbb_avg_70       1.01       1.11      0.846\n",
      "dRlepbb_MindR_70       1.02      0.952       1.08\n",
      "    Muu_MindR_70      0.908      0.905      0.912\n",
      "         HT_jets       1.06      0.805      0.759\n",
      "    Mbb_MaxPt_70       1.03      0.626        1.2\n",
      "     Mbb_MaxM_70      0.965      0.705      0.846\n",
      "      Mjjj_MaxPt        1.0      0.804       1.08\n",
      "  Centrality_all      0.964      0.972      0.893\n",
      "\n",
      "\n"
     ]
    }
   ],
   "source": [
    "from HpMLUtils import WeightedStandardScaler, summarizeFitData,MultiSBWeightsScaler\n",
    "X_train, X_test, X_eval, y_train, y_test,y_eval, w_train, w_test, w_eval=htf.prepare(hpmass=800)\n",
    "summarizeFitData(X_train, y_train, w=w_train)\n",
    "\n",
    "sb=MultiSBWeightsScaler(backgroundclass=0)\n",
    "sb.fit(X_train,y_train, sample_weight=w_train)\n",
    "X_train=sb.transform(X_train,y_train, sample_weight=w_train)\n",
    "X_test=sb.transform(X_test,y_test, sample_weight=w_test)\n",
    "#w_train.groupby(y_train).sum()\n",
    "summarizeFitData(X_train, y_train, w=w_train)\n",
    "\n",
    "wss=WeightedStandardScaler()\n",
    "wss.fit(X_train,sample_weight=w_train)\n",
    "X_train=wss.transform(X_train)\n",
    "X_test=wss.transform(X_test)\n",
    "#X_eval=wss.transform(X_eval)\n",
    "summarizeFitData(X_train, y_train, w=w_train)\n",
    "summarizeFitData(X_test, y_test, w=w_test)"
   ]
  }
 ],
 "metadata": {
  "accelerator": "GPU",
  "colab": {
   "name": "StandardNN.ipynb",
   "provenance": [],
   "toc_visible": true,
   "version": "0.3.2"
  },
  "kernelspec": {
   "display_name": "Python 2",
   "language": "python",
   "name": "python2"
  },
  "language_info": {
   "codemirror_mode": {
    "name": "ipython",
    "version": 2
   },
   "file_extension": ".py",
   "mimetype": "text/x-python",
   "name": "python",
   "nbconvert_exporter": "python",
   "pygments_lexer": "ipython2",
   "version": "2.7.12"
  }
 },
 "nbformat": 4,
 "nbformat_minor": 2
}
