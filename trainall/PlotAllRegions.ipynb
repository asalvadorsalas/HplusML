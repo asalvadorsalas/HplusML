{
 "cells": [
  {
   "cell_type": "markdown",
   "metadata": {},
   "source": [
    "# Training for All Regions"
   ]
  },
  {
   "cell_type": "code",
   "execution_count": 11,
   "metadata": {},
   "outputs": [],
   "source": [
    "intialregions=['5j','INC_ge6j3b','INC_ge6jge4b']\n",
    "regions=['INC_5j3b','INC_5jge4b','INC_ge6j3b','INC_ge6jge4b']\n",
    "\n",
    "invertTestTrain=False\n",
    "hpmasses=[200,225,250,275,300,350,400,500,600,700,800,900,1000,1200,1400,1600,1800,2000]\n",
    "path = \"/data/JulianGlatzer/HplusML/trainall/models/\""
   ]
  },
  {
   "cell_type": "code",
   "execution_count": 3,
   "metadata": {},
   "outputs": [
    {
     "name": "stdout",
     "output_type": "stream",
     "text": [
      "HpAlgorithms.py\n",
      "HpHyperParameterOptimisation.py\n",
      "HpKerasUtils.py\n",
      "HpMLFeatureNormalisation.py\n",
      "HpMLMTL.py\n",
      "HpMLPipeline.py\n",
      "HpMLPlots.py\n",
      "HpMLUtils.py\n",
      "HpMLWeightTransformer.py\n",
      "HpTrainingFrame.py\n",
      "PlotAllRegions-Copy1.ipynb\n",
      "PlotAllRegions.ipynb\n",
      "TrainAllRegions-Copy1.ipynb\n",
      "TrainAllRegions.ipynb\n",
      "Untitled.ipynb\n",
      "__pycache__\n",
      "model_nn_[64, 64]_dropout0.1_l2thresholdNone.hdf5\n",
      "models\n",
      "pandas_INC_5j3b.h5\n",
      "pandas_INC_5jge4b.h5\n",
      "pandas_INC_ge6j3b.h5\n",
      "pandas_INC_ge6jge4b.h5\n",
      "results\n"
     ]
    }
   ],
   "source": [
    "#! rm -rf HplusML pandas_INC_*.h5\n",
    "#! wget https://jglatzer.web.cern.ch/jglatzer/hpml/pandas_INC_ge6j3b.h5\n",
    "#! wget https://jglatzer.web.cern.ch/jglatzer/hpml/pandas_INC_ge6jge4b.h5\n",
    "#! wget https://jglatzer.web.cern.ch/jglatzer/hpml/pandas_INC_5j3b.h5\n",
    "#! wget https://jglatzer.web.cern.ch/jglatzer/hpml/pandas_INC_5jge4b.h5\n",
    "! ls"
   ]
  },
  {
   "cell_type": "markdown",
   "metadata": {},
   "source": [
    "## Plot BDTS"
   ]
  },
  {
   "cell_type": "code",
   "execution_count": null,
   "metadata": {},
   "outputs": [
    {
     "name": "stdout",
     "output_type": "stream",
     "text": [
      "INC_ge6jge4b\n",
      "Region= INC_ge6jge4b invertTestTrain= False H+ mass= 200\n",
      "pipe: WeightedStandardScaler(copy=True, with_mean=True, with_std=True)\n",
      "(93234, 14) [ 0  1  2  3  4  5  6  7  8  9 10 11 12 13]\n",
      "(93234, 27) [ 0  1  2  3  4  5  6  7  8  9 10 11 12 13 14 15 16 17 18 19 20 21 22 23\n",
      " 24 25 26]\n",
      "0.3290842221951199 0.4993179296195699 0.3194518036783929 0.49845561585133746\n",
      "Region= INC_ge6jge4b invertTestTrain= False H+ mass= 225\n",
      "pipe: WeightedStandardScaler(copy=True, with_mean=True, with_std=True)\n",
      "(90277, 14) [ 0  1  2  3  4  5  6  7  8  9 10 11 12 13]\n",
      "(90277, 27) [ 0  1  2  3  4  5  6  7  8  9 10 11 12 13 14 15 16 17 18 19 20 21 22 23\n",
      " 24 25 26]\n",
      "0.3566889077706463 0.5059740278290996 0.34962255685099086 0.5099528077800435\n",
      "Region= INC_ge6jge4b invertTestTrain= False H+ mass= 250\n",
      "pipe: WeightedStandardScaler(copy=True, with_mean=True, with_std=True)\n",
      "(91763, 14) [ 0  1  2  3  4  5  6  7  8  9 10 11 12 13]\n",
      "(91763, 27) [ 0  1  2  3  4  5  6  7  8  9 10 11 12 13 14 15 16 17 18 19 20 21 22 23\n",
      " 24 25 26]\n",
      "0.36026598934664733 0.49830073355479987 0.3532745532276753 0.49974334148444466\n",
      "Region= INC_ge6jge4b invertTestTrain= False H+ mass= 275\n",
      "pipe: WeightedStandardScaler(copy=True, with_mean=True, with_std=True)\n",
      "(90796, 14) [ 0  1  2  3  4  5  6  7  8  9 10 11 12 13]\n",
      "(90796, 27) [ 0  1  2  3  4  5  6  7  8  9 10 11 12 13 14 15 16 17 18 19 20 21 22 23\n",
      " 24 25 26]\n",
      "0.3449842931998113 0.5107829291104709 0.3445228896494277 0.5089021772274652\n",
      "Region= INC_ge6jge4b invertTestTrain= False H+ mass= 300\n",
      "pipe: WeightedStandardScaler(copy=True, with_mean=True, with_std=True)\n",
      "(91413, 14) [ 0  1  2  3  4  5  6  7  8  9 10 11 12 13]\n",
      "(91413, 27) [ 0  1  2  3  4  5  6  7  8  9 10 11 12 13 14 15 16 17 18 19 20 21 22 23\n",
      " 24 25 26]\n",
      "0.3395256720280394 0.5118333373910642 0.33691296988528485 0.5091467163851875\n",
      "Region= INC_ge6jge4b invertTestTrain= False H+ mass= 350\n",
      "pipe: WeightedStandardScaler(copy=True, with_mean=True, with_std=True)\n",
      "(91193, 14) [ 0  1  2  3  4  5  6  7  8  9 10 11 12 13]\n",
      "(91193, 27) [ 0  1  2  3  4  5  6  7  8  9 10 11 12 13 14 15 16 17 18 19 20 21 22 23\n",
      " 24 25 26]\n",
      "0.32019294400406406 0.49720812633476075 0.31703243619287647 0.49746355034213463\n",
      "Region= INC_ge6jge4b invertTestTrain= False H+ mass= 400\n",
      "pipe: WeightedStandardScaler(copy=True, with_mean=True, with_std=True)\n",
      "(91154, 14) [ 0  1  2  3  4  5  6  7  8  9 10 11 12 13]\n",
      "(91154, 27) [ 0  1  2  3  4  5  6  7  8  9 10 11 12 13 14 15 16 17 18 19 20 21 22 23\n",
      " 24 25 26]\n",
      "0.2922575016913834 0.49170275780213946 0.29282968331365755 0.4917541298394228\n",
      "Region= INC_ge6jge4b invertTestTrain= False H+ mass= 500\n",
      "pipe: WeightedStandardScaler(copy=True, with_mean=True, with_std=True)\n",
      "(91935, 14) [ 0  1  2  3  4  5  6  7  8  9 10 11 12 13]\n",
      "(91935, 27) [ 0  1  2  3  4  5  6  7  8  9 10 11 12 13 14 15 16 17 18 19 20 21 22 23\n",
      " 24 25 26]\n",
      "0.23146465705587116 0.501270833716691 0.2258136326653164 0.5003426906223722\n",
      "Region= INC_ge6jge4b invertTestTrain= False H+ mass= 600\n",
      "pipe: WeightedStandardScaler(copy=True, with_mean=True, with_std=True)\n",
      "(91903, 14) [ 0  1  2  3  4  5  6  7  8  9 10 11 12 13]\n",
      "(91903, 27) [ 0  1  2  3  4  5  6  7  8  9 10 11 12 13 14 15 16 17 18 19 20 21 22 23\n",
      " 24 25 26]\n",
      "0.1869794113255031 0.492968242260606 0.18247896025754873 0.4914937053961189\n",
      "Region= INC_ge6jge4b invertTestTrain= False H+ mass= 700\n",
      "pipe: WeightedStandardScaler(copy=True, with_mean=True, with_std=True)\n",
      "(92612, 14) [ 0  1  2  3  4  5  6  7  8  9 10 11 12 13]\n",
      "(92612, 27) [ 0  1  2  3  4  5  6  7  8  9 10 11 12 13 14 15 16 17 18 19 20 21 22 23\n",
      " 24 25 26]\n",
      "0.14718151569833804 0.49492598145444 0.14181758885872708 0.49607345994222174\n",
      "Region= INC_ge6jge4b invertTestTrain= False H+ mass= 800\n",
      "pipe: WeightedStandardScaler(copy=True, with_mean=True, with_std=True)\n",
      "(93052, 14) [ 0  1  2  3  4  5  6  7  8  9 10 11 12 13]\n"
     ]
    }
   ],
   "source": [
    "import pandas as pd\n",
    "import HpTrainingFrame\n",
    "from sklearn.metrics import roc_auc_score\n",
    "from keras.models import model_from_json\n",
    "from joblib import load\n",
    "\n",
    "roc_aucs_bdt={}\n",
    "roc_aucs_mpbdt={}\n",
    "roc_aucs_nn={}\n",
    "roc_aucs_mpnn={}\n",
    "\n",
    "\n",
    "for region in regions[-1:]:\n",
    "    roc_aucs_bdt[region]=[]\n",
    "    roc_aucs_mpbdt[region]=[]\n",
    "    roc_aucs_nn[region]=[]\n",
    "    roc_aucs_mpnn[region]=[]\n",
    "\n",
    "    subregion=region\n",
    "    if \"5j\" in region:\n",
    "        subregion=\"5j\"\n",
    "    print(region)\n",
    "    df_mc=pd.read_hdf('pandas_'+region+'.h5', region)\n",
    "    \n",
    "    for invertTestTrain in [False,True][:1]:\n",
    "        roc_aucs_bdt_vec=[]\n",
    "        roc_aucs_mpbdt_vec=[]\n",
    "        roc_aucs_nn_vec=[]\n",
    "        roc_aucs_mpnn_vec=[]\n",
    "\n",
    "        datalabel=\"train2mod0\"\n",
    "        if invertTestTrain:\n",
    "            datalabel=\"train2mod1\"\n",
    "            X_tmp=X_train\n",
    "            y_tmp=y_train\n",
    "            w_tmp=w_train\n",
    "            X_train=X_test\n",
    "            y_train=y_test\n",
    "            w_train=w_test\n",
    "            X_test=X_tmp\n",
    "            y_test=y_tmp\n",
    "            w_test=w_tmp\n",
    "        \n",
    "        # mass-parameterised BDT\n",
    "        mpclfwss=load(path+'massparameterisedBDT_'+subregion+'_'+datalabel+'_pipe.joblib')\n",
    "        mpclf=load(path+'massparameterisedBDT_'+subregion+'_'+datalabel+'_bdt.joblib')\n",
    "        \n",
    "        # mass-parameterised NN\n",
    "        mpwss=load(path+'massparameterisedNN3_'+subregion+'_'+datalabel+'_pipe.joblib') \n",
    "        json_file = open(path+'massparameterisedNN3_'+subregion+'_'+datalabel+'_architecture.h5')\n",
    "        loaded_model_json = json_file.read()\n",
    "        json_file.close()\n",
    "        nnmpmodel = model_from_json(loaded_model_json)\n",
    "        nnmpmodel.load_weights(path+'massparameterisedNN3_'+subregion+'_'+datalabel+'_weights.h5')\n",
    "            \n",
    "        #calculate values\n",
    "        for hpmass in hpmasses:\n",
    "            print(\"Region=\",region,\"invertTestTrain=\", invertTestTrain,\"H+ mass=\",hpmass)\n",
    "            \n",
    "            htf=HpTrainingFrame.HpTrainingFrame(df_mc)\n",
    "            X_train, X_test, X_eval, y_train, y_test,y_eval, w_train, w_test, w_eval=htf.prepare(hpmass=hpmass, region=region)\n",
    "\n",
    "            X_testmass=X_test.copy()\n",
    "            X_testmass[\"hpmass\"]=hpmass\n",
    "\n",
    "\n",
    "            from sklearn.metrics import roc_auc_score            \n",
    "            \n",
    "            #evaluate BDT\n",
    "            clf=load('modelsold/standardBDT_'+str(hpmass)+'_'+subregion+'_'+datalabel+'.joblib')\n",
    "            roc_auc_bdt=1.-roc_auc_score(y_test, clf.predict_proba(X_test)[:,1], sample_weight=w_test)\n",
    "            roc_aucs_bdt_vec.append(roc_auc_bdt)\n",
    "            \n",
    "            #evaluate NN       \n",
    "            wsstrain=load('modelsold/standardNN_'+str(hpmass)+'_'+subregion+'_'+datalabel+'_pipe.joblib').steps[1][1]\n",
    "            print(\"pipe:\",wsstrain)\n",
    "            json_file = open('modelsold/standardNN_'+str(hpmass)+'_'+subregion+'_'+datalabel+'_architecture.h5')\n",
    "            loaded_model_json = json_file.read()\n",
    "            json_file.close()\n",
    "            nnmodel = model_from_json(loaded_model_json)\n",
    "            nnmodel.load_weights('modelsold/standardNN_'+str(hpmass)+'_'+subregion+'_'+datalabel+'_weights.h5')\n",
    "            #print(X_test.shape,X_test.mean(), X_test.var())\n",
    "            X_testnn,y_testnn,w_testnn =wsstrain.transform(X_test,y_test,sample_weight=w_test)\n",
    "            #print(X_testnn.shape,X_testnn.mean(axis=0),X_testnn.var(axis=0))\n",
    "            roc_auc_nn=1.-roc_auc_score(y_test, nnmodel.predict(X_testnn), sample_weight=w_test)\n",
    "            roc_aucs_nn_vec.append(roc_auc_nn)\n",
    "            \n",
    "            #evaluate mass-parameterised BDT\n",
    "            X_testmpbdt,y_testmpbdt,w_testmpbdt=mpclfwss.transform(X_testmass,y_test,sample_weight=w_test)\n",
    "            X_testmpbdt.hpmass=X_testmpbdt[y_testmpbdt>0.5].hpmass.unique()[0]\n",
    "            #for x in X_testmpbdt.columns:\n",
    "            #    print (x,end=\", \")\n",
    "            roc_auc_mpbdt=1.-roc_auc_score(y_test, mpclf.predict_proba(X_testmpbdt)[:,1], sample_weight=w_test)\n",
    "            roc_aucs_mpbdt_vec.append(roc_auc_mpbdt)\n",
    "            \n",
    "            #evaluate mass-parameterised NN\n",
    "            X_testmpnn,y_testmpnn,w_testmpnn=mpwss.transform(X_testmass,y_test,w_test)\n",
    "            roc_auc_mpnn=1.-roc_auc_score(y_test, nnmpmodel.predict(X_testmpnn.values), sample_weight=w_test)\n",
    "            roc_aucs_mpnn_vec.append(roc_auc_mpnn)            \n",
    "            print(roc_auc_bdt,roc_auc_mpbdt, roc_auc_nn,roc_auc_mpnn   )\n",
    "        roc_aucs_bdt[region].append(roc_aucs_bdt_vec)\n",
    "        roc_aucs_mpbdt[region].append(roc_aucs_mpbdt_vec)\n",
    "        roc_aucs_nn[region].append(roc_aucs_nn_vec)\n",
    "        roc_aucs_mpnn[region].append(roc_aucs_mpnn_vec)\n",
    "        print (roc_aucs_bdt_vec, roc_aucs_mpbdt_vec, roc_aucs_nn_vec, roc_aucs_mpnn_vec)\n",
    "                \n",
    "        #plot now\n",
    "print(\"BDT:\",roc_aucs_bdt)\n",
    "print(\"MPBDT:\",roc_aucs_mpbdt)\n",
    "print(\"NN:\",roc_aucs_nn)\n",
    "print(\"MPNN:\",roc_aucs_mpnn)"
   ]
  },
  {
   "cell_type": "code",
   "execution_count": 4,
   "metadata": {},
   "outputs": [
    {
     "data": {
      "image/png": "[encoded data removed]",
      "text/plain": [
       "<Figure size 432x288 with 1 Axes>"
      ]
     },
     "metadata": {
      "needs_background": "light"
     },
     "output_type": "display_data"
    }
   ],
   "source": [
    "#print(\"BDT:\",roc_aucs_bdt)\n",
    "#print(\"MPBDT:\",roc_aucs_mpbdt)\n",
    "#print(\"NN:\",roc_aucs_nn)\n",
    "#print(\"MPNN:\",roc_aucs_mpnn)\n",
    "import matplotlib.pyplot as plt\n",
    "region=\"INC_ge6jge4b\"\n",
    "#print (roc_aucs_bdt)\n",
    "plt.plot(hpmasses,roc_aucs_bdt[region][0],label=\"BDT\")\n",
    "plt.plot(hpmasses,roc_aucs_mpbdt[region][0],label=\"MP BDT\")\n",
    "plt.plot(hpmasses,roc_aucs_nn[region][0],label=\"NN\")\n",
    "plt.plot(hpmasses,roc_aucs_mpnn[region][0],label=\"MP NN\")\n",
    "plt.legend()\n",
    "plt.show()"
   ]
  },
  {
   "cell_type": "code",
   "execution_count": 4,
   "metadata": {},
   "outputs": [
    {
     "data": {
      "image/png": "[encoded data removed]",
      "text/plain": [
       "<Figure size 432x288 with 1 Axes>"
      ]
     },
     "metadata": {
      "needs_background": "light"
     },
     "output_type": "display_data"
    }
   ],
   "source": [
    "#print(\"BDT:\",roc_aucs_bdt)\n",
    "#print(\"MPBDT:\",roc_aucs_mpbdt)\n",
    "#print(\"NN:\",roc_aucs_nn)\n",
    "#print(\"MPNN:\",roc_aucs_mpnn)\n",
    "import matplotlib.pyplot as plt\n",
    "region=\"INC_ge6jge4b\"\n",
    "#print (roc_aucs_bdt)\n",
    "plt.plot(hpmasses,roc_aucs_bdt[region][0],label=\"BDT\")\n",
    "plt.plot(hpmasses,roc_aucs_mpbdt[region][0],label=\"MP BDT\")\n",
    "plt.plot(hpmasses,roc_aucs_nn[region][0],label=\"NN\")\n",
    "plt.plot(hpmasses,roc_aucs_mpnn[region][0],label=\"MP NN\")\n",
    "plt.legend()\n",
    "plt.show()"
   ]
  },
  {
   "cell_type": "code",
   "execution_count": 36,
   "metadata": {},
   "outputs": [],
   "source": [
    "import pandas as pd\n",
    "import HpTrainingFrame\n",
    "from sklearn.metrics import roc_auc_score\n",
    "from keras.models import model_from_json\n",
    "from joblib import load\n",
    "from HpMLUtils import FeatureDivider\n",
    "from HpMLFeatureNormalisation import WeightedStandardScaler\n",
    "\n",
    "region = \"5j\"\n",
    "subregion = \"5j\"\n",
    "#region = \"INC_ge6jge4b\"\n",
    "#subregion = \"INC_ge6jge4b\"\n",
    "path = \"/data/JulianGlatzer/HplusML/trainall/models/\"\n",
    "path = \"models/\"\n",
    "datalabel = \"train2mod0\"\n",
    "hpmass = 400"
   ]
  },
  {
   "cell_type": "code",
   "execution_count": 37,
   "metadata": {},
   "outputs": [],
   "source": [
    "mpwss=load(path+'massparameterisedNN3_'+subregion+'_'+datalabel+'_pipe.joblib')\n",
    "json_file = open(path+'massparameterisedNN3_'+subregion+'_'+datalabel+'_architecture.h5')\n",
    "loaded_model_json = json_file.read()\n",
    "json_file.close()\n",
    "nnmpmodel = model_from_json(loaded_model_json)\n",
    "nnmpmodel.load_weights(path+'massparameterisedNN3_'+subregion+'_'+datalabel+'_weights.h5')\n",
    "#df_mc=pd.read_hdf('pandas_'+region+'.h5', region)\n",
    "df_mc=pd.read_hdf('pandas_INC_5j3b.h5', \"INC_5j3b\")\n",
    "htf=HpTrainingFrame.HpTrainingFrame(df_mc)"
   ]
  },
  {
   "cell_type": "code",
   "execution_count": 42,
   "metadata": {},
   "outputs": [],
   "source": [
    "X_train, X_test, X_eval, y_train, y_test,y_eval, w_train, w_test, w_eval=htf.prepare(hpmass=400, region=None, addMass=True)"
   ]
  },
  {
   "cell_type": "code",
   "execution_count": 43,
   "metadata": {},
   "outputs": [
    {
     "name": "stdout",
     "output_type": "stream",
     "text": [
      "166234\n",
      "[ -1 400] [0 1]\n",
      "[1]\n",
      "[400]\n",
      "(166670, 27)\n",
      "Index(['nJets', 'nBTags_70', 'pT_jet1', 'Mbb_MindR_70', 'pT_jet5', 'H1_all',\n",
      "       'dRbb_avg_70', 'dRlepbb_MindR_70', 'Muu_MindR_70', 'HT_jets',\n",
      "       'Mbb_MaxPt_70', 'Mbb_MaxM_70', 'Mjjj_MaxPt', 'Centrality_all', 'hpmass',\n",
      "       'pT_jet1divhpmass', 'Mbb_MindR_70divhpmass', 'pT_jet5divhpmass',\n",
      "       'H1_alldivhpmass', 'dRbb_avg_70divhpmass', 'dRlepbb_MindR_70divhpmass',\n",
      "       'Muu_MindR_70divhpmass', 'HT_jetsdivhpmass', 'Mbb_MaxPt_70divhpmass',\n",
      "       'Mbb_MaxM_70divhpmass', 'Mjjj_MaxPtdivhpmass',\n",
      "       'Centrality_alldivhpmass'],\n",
      "      dtype='object')\n",
      "(166670, 27) [ 2  3  4  5  6  7  8  9 10 11 12 13 14 15 16 17 18 19 20 21 22 23 24 25\n",
      " 26]\n",
      "(166670, 25) Index(['pT_jet1', 'Mbb_MindR_70', 'pT_jet5', 'H1_all', 'dRbb_avg_70',\n",
      "       'dRlepbb_MindR_70', 'Muu_MindR_70', 'HT_jets', 'Mbb_MaxPt_70',\n",
      "       'Mbb_MaxM_70', 'Mjjj_MaxPt', 'Centrality_all', 'hpmass',\n",
      "       'pT_jet1divhpmass', 'Mbb_MindR_70divhpmass', 'pT_jet5divhpmass',\n",
      "       'H1_alldivhpmass', 'dRbb_avg_70divhpmass', 'dRlepbb_MindR_70divhpmass',\n",
      "       'Muu_MindR_70divhpmass', 'HT_jetsdivhpmass', 'Mbb_MaxPt_70divhpmass',\n",
      "       'Mbb_MaxM_70divhpmass', 'Mjjj_MaxPtdivhpmass',\n",
      "       'Centrality_alldivhpmass'],\n",
      "      dtype='object')\n"
     ]
    }
   ],
   "source": [
    "print(len(y_train))\n",
    "print(X_train.hpmass.unique(), y_train.unique())\n",
    "print(y_train[X_train.hpmass==400].unique())\n",
    "X_train.hpmass=400\n",
    "print(X_train.hpmass.unique())\n",
    "fd=FeatureDivider(\"hpmass\")\n",
    "wss=WeightedStandardScaler()\n",
    "fd.fit(X_train,X_train.hpmass,sample_weight=w_train)\n",
    "#fd.fit(X_test,X_test.hpmass,sample_weight=w_test)\n",
    "#X_tr,y_tr, w_tr = fd.transform(X_train,y_train,sample_weight=w_train)#\n",
    "X_tr,y_tr, w_tr = fd.transform(X_test,y_test,sample_weight=w_test)\n",
    "print(X_tr.shape)\n",
    "#X_tr=X_tr.drop([\"hpmass\"],axis=1)\n",
    "print(X_tr.columns)\n",
    "wss.fit(X_tr,y_tr,sample_weight=w_tr)\n",
    "X_tr,y_tr,w_tr = wss.transform(X_tr, y_tr, sample_weight=w_tr)\n",
    "print (X_tr.shape, X_tr.columns)"
   ]
  },
  {
   "cell_type": "code",
   "execution_count": 32,
   "metadata": {},
   "outputs": [
    {
     "name": "stdout",
     "output_type": "stream",
     "text": [
      "[10.77568179] [-0.09280155]\n"
     ]
    }
   ],
   "source": [
    "#print(X_tr.shape, X_tr.mean(axis=0), X_tr.var(axis=0), X_tr.hpmass.unique())\n",
    "print(X_tr.hpmass[y_tr>0.5].unique(), X_tr.hpmass[y_tr<0.5].unique())\n",
    "#X_tr.hpmass=X_tr.hpmass[y_tr>0.5].unique()[0]"
   ]
  },
  {
   "cell_type": "code",
   "execution_count": 34,
   "metadata": {},
   "outputs": [],
   "source": [
    "X_tr.hpmass=X_tr[y_tr>0.5].hpmass.unique()[0]"
   ]
  },
  {
   "cell_type": "code",
   "execution_count": 35,
   "metadata": {},
   "outputs": [
    {
     "ename": "ValueError",
     "evalue": "Error when checking input: expected dense_4_input to have shape (27,) but got array with shape (25,)",
     "output_type": "error",
     "traceback": [
      "\u001b[0;31m---------------------------------------------------------------------------\u001b[0m",
      "\u001b[0;31mValueError\u001b[0m                                Traceback (most recent call last)",
      "\u001b[0;32m<ipython-input-35-df9814f8b888>\u001b[0m in \u001b[0;36m<module>\u001b[0;34m\u001b[0m\n\u001b[0;32m----> 1\u001b[0;31m \u001b[0mroc_auc_nn\u001b[0m\u001b[0;34m=\u001b[0m\u001b[0;36m1.\u001b[0m\u001b[0;34m-\u001b[0m\u001b[0mroc_auc_score\u001b[0m\u001b[0;34m(\u001b[0m\u001b[0my_tr\u001b[0m\u001b[0;34m,\u001b[0m \u001b[0mnnmpmodel\u001b[0m\u001b[0;34m.\u001b[0m\u001b[0mpredict\u001b[0m\u001b[0;34m(\u001b[0m\u001b[0mX_tr\u001b[0m\u001b[0;34m)\u001b[0m\u001b[0;34m,\u001b[0m \u001b[0msample_weight\u001b[0m\u001b[0;34m=\u001b[0m\u001b[0mw_tr\u001b[0m\u001b[0;34m)\u001b[0m\u001b[0;34m\u001b[0m\u001b[0m\n\u001b[0m\u001b[1;32m      2\u001b[0m \u001b[0mprint\u001b[0m \u001b[0;34m(\u001b[0m\u001b[0mroc_auc_nn\u001b[0m\u001b[0;34m)\u001b[0m\u001b[0;34m\u001b[0m\u001b[0m\n",
      "\u001b[0;32m/usr/local/lib/python3.5/dist-packages/keras/engine/training.py\u001b[0m in \u001b[0;36mpredict\u001b[0;34m(self, x, batch_size, verbose, steps)\u001b[0m\n\u001b[1;32m   1147\u001b[0m                              'argument.')\n\u001b[1;32m   1148\u001b[0m         \u001b[0;31m# Validate user data.\u001b[0m\u001b[0;34m\u001b[0m\u001b[0;34m\u001b[0m\u001b[0m\n\u001b[0;32m-> 1149\u001b[0;31m         \u001b[0mx\u001b[0m\u001b[0;34m,\u001b[0m \u001b[0m_\u001b[0m\u001b[0;34m,\u001b[0m \u001b[0m_\u001b[0m \u001b[0;34m=\u001b[0m \u001b[0mself\u001b[0m\u001b[0;34m.\u001b[0m\u001b[0m_standardize_user_data\u001b[0m\u001b[0;34m(\u001b[0m\u001b[0mx\u001b[0m\u001b[0;34m)\u001b[0m\u001b[0;34m\u001b[0m\u001b[0m\n\u001b[0m\u001b[1;32m   1150\u001b[0m         \u001b[0;32mif\u001b[0m \u001b[0mself\u001b[0m\u001b[0;34m.\u001b[0m\u001b[0mstateful\u001b[0m\u001b[0;34m:\u001b[0m\u001b[0;34m\u001b[0m\u001b[0m\n\u001b[1;32m   1151\u001b[0m             \u001b[0;32mif\u001b[0m \u001b[0mx\u001b[0m\u001b[0;34m[\u001b[0m\u001b[0;36m0\u001b[0m\u001b[0;34m]\u001b[0m\u001b[0;34m.\u001b[0m\u001b[0mshape\u001b[0m\u001b[0;34m[\u001b[0m\u001b[0;36m0\u001b[0m\u001b[0;34m]\u001b[0m \u001b[0;34m>\u001b[0m \u001b[0mbatch_size\u001b[0m \u001b[0;32mand\u001b[0m \u001b[0mx\u001b[0m\u001b[0;34m[\u001b[0m\u001b[0;36m0\u001b[0m\u001b[0;34m]\u001b[0m\u001b[0;34m.\u001b[0m\u001b[0mshape\u001b[0m\u001b[0;34m[\u001b[0m\u001b[0;36m0\u001b[0m\u001b[0;34m]\u001b[0m \u001b[0;34m%\u001b[0m \u001b[0mbatch_size\u001b[0m \u001b[0;34m!=\u001b[0m \u001b[0;36m0\u001b[0m\u001b[0;34m:\u001b[0m\u001b[0;34m\u001b[0m\u001b[0m\n",
      "\u001b[0;32m/usr/local/lib/python3.5/dist-packages/keras/engine/training.py\u001b[0m in \u001b[0;36m_standardize_user_data\u001b[0;34m(self, x, y, sample_weight, class_weight, check_array_lengths, batch_size)\u001b[0m\n\u001b[1;32m    749\u001b[0m             \u001b[0mfeed_input_shapes\u001b[0m\u001b[0;34m,\u001b[0m\u001b[0;34m\u001b[0m\u001b[0m\n\u001b[1;32m    750\u001b[0m             \u001b[0mcheck_batch_axis\u001b[0m\u001b[0;34m=\u001b[0m\u001b[0;32mFalse\u001b[0m\u001b[0;34m,\u001b[0m  \u001b[0;31m# Don't enforce the batch size.\u001b[0m\u001b[0;34m\u001b[0m\u001b[0m\n\u001b[0;32m--> 751\u001b[0;31m             exception_prefix='input')\n\u001b[0m\u001b[1;32m    752\u001b[0m \u001b[0;34m\u001b[0m\u001b[0m\n\u001b[1;32m    753\u001b[0m         \u001b[0;32mif\u001b[0m \u001b[0my\u001b[0m \u001b[0;32mis\u001b[0m \u001b[0;32mnot\u001b[0m \u001b[0;32mNone\u001b[0m\u001b[0;34m:\u001b[0m\u001b[0;34m\u001b[0m\u001b[0m\n",
      "\u001b[0;32m/usr/local/lib/python3.5/dist-packages/keras/engine/training_utils.py\u001b[0m in \u001b[0;36mstandardize_input_data\u001b[0;34m(data, names, shapes, check_batch_axis, exception_prefix)\u001b[0m\n\u001b[1;32m    136\u001b[0m                             \u001b[0;34m': expected '\u001b[0m \u001b[0;34m+\u001b[0m \u001b[0mnames\u001b[0m\u001b[0;34m[\u001b[0m\u001b[0mi\u001b[0m\u001b[0;34m]\u001b[0m \u001b[0;34m+\u001b[0m \u001b[0;34m' to have shape '\u001b[0m \u001b[0;34m+\u001b[0m\u001b[0;34m\u001b[0m\u001b[0m\n\u001b[1;32m    137\u001b[0m                             \u001b[0mstr\u001b[0m\u001b[0;34m(\u001b[0m\u001b[0mshape\u001b[0m\u001b[0;34m)\u001b[0m \u001b[0;34m+\u001b[0m \u001b[0;34m' but got array with shape '\u001b[0m \u001b[0;34m+\u001b[0m\u001b[0;34m\u001b[0m\u001b[0m\n\u001b[0;32m--> 138\u001b[0;31m                             str(data_shape))\n\u001b[0m\u001b[1;32m    139\u001b[0m     \u001b[0;32mreturn\u001b[0m \u001b[0mdata\u001b[0m\u001b[0;34m\u001b[0m\u001b[0m\n\u001b[1;32m    140\u001b[0m \u001b[0;34m\u001b[0m\u001b[0m\n",
      "\u001b[0;31mValueError\u001b[0m: Error when checking input: expected dense_4_input to have shape (27,) but got array with shape (25,)"
     ]
    }
   ],
   "source": [
    "roc_auc_nn=1.-roc_auc_score(y_tr, nnmpmodel.predict(X_tr), sample_weight=w_tr)\n",
    "print (roc_auc_nn)"
   ]
  },
  {
   "cell_type": "code",
   "execution_count": 7,
   "metadata": {},
   "outputs": [],
   "source": [
    "y_train_pred = nnmpmodel.predict(X_tr).ravel()"
   ]
  },
  {
   "cell_type": "code",
   "execution_count": 9,
   "metadata": {},
   "outputs": [
    {
     "data": {
      "image/png": "[encoded data removed]",
      "text/plain": [
       "<Figure size 432x288 with 1 Axes>"
      ]
     },
     "metadata": {
      "needs_background": "light"
     },
     "output_type": "display_data"
    }
   ],
   "source": [
    "import matplotlib.pyplot as plt\n",
    "bins = 50\n",
    "plt.hist(y_train_pred[y_tr>0.5].ravel(),alpha=0.5,color='r',bins=bins, density=True)\n",
    "plt.hist(y_train_pred[y_tr<0.5].ravel(),alpha=0.5,color='b',bins=bins, density=True)\n",
    "plt.xlabel(\"mass paramatrised NN score\")\n",
    "plt.show()"
   ]
  },
  {
   "cell_type": "code",
   "execution_count": 24,
   "metadata": {},
   "outputs": [
    {
     "name": "stdout",
     "output_type": "stream",
     "text": [
      "0.7923786444631433\n"
     ]
    },
    {
     "data": {
      "image/png": "[encoded data removed]",
      "text/plain": [
       "<Figure size 432x288 with 1 Axes>"
      ]
     },
     "metadata": {
      "needs_background": "light"
     },
     "output_type": "display_data"
    }
   ],
   "source": [
    "import matplotlib.pyplot as plt\n",
    "bins = 50\n",
    "y_train_pred = nnmpmodel.predict(X_tr).ravel()\n",
    "roc_auc_nn=1.-roc_auc_score(y_tr, nnmpmodel.predict(X_tr), sample_weight=w_tr)\n",
    "print (roc_auc_nn)\n",
    "plt.hist(y_train_pred[y_tr>0.5].ravel(),alpha=0.5,color='r',bins=bins, density=True)\n",
    "plt.hist(y_train_pred[y_tr<0.5].ravel(),alpha=0.5,color='b',bins=bins, density=True)\n",
    "plt.xlabel(\"mass paramatrised NN score\")\n",
    "plt.show()"
   ]
  },
  {
   "cell_type": "markdown",
   "metadata": {},
   "source": [
    "### Standard way?"
   ]
  },
  {
   "cell_type": "code",
   "execution_count": 25,
   "metadata": {},
   "outputs": [],
   "source": [
    "X_train, X_test, X_eval, y_train, y_test,y_eval, w_train, w_test, w_eval=htf.prepare(hpmass=400, region=None, addMass=True)"
   ]
  },
  {
   "cell_type": "code",
   "execution_count": 27,
   "metadata": {},
   "outputs": [
    {
     "name": "stdout",
     "output_type": "stream",
     "text": [
      "(90493, 15)\n",
      "(91154, 15) nJets                    7.269588\n",
      "nBTags_70                4.071330\n",
      "pT_jet1             196124.156014\n",
      "Mbb_MindR_70         84016.246827\n",
      "pT_jet5              56774.014831\n",
      "H1_all                   0.244329\n",
      "dRbb_avg_70              2.159917\n",
      "dRlepbb_MindR_70         2.169747\n",
      "Muu_MindR_70        103075.786597\n",
      "HT_jets             645272.928949\n",
      "Mbb_MaxPt_70        151139.178721\n",
      "Mbb_MaxM_70         298948.991466\n",
      "Mjjj_MaxPt          299379.812609\n",
      "Centrality_all           0.603531\n",
      "hpmass                  27.356912\n",
      "dtype: float64 nJets               1.787644e+00\n",
      "nBTags_70           7.563342e-02\n",
      "pT_jet1             1.386138e+10\n",
      "Mbb_MindR_70        2.077790e+09\n",
      "pT_jet5             5.820995e+08\n",
      "H1_all              4.970727e-02\n",
      "dRbb_avg_70         1.224668e-01\n",
      "dRlepbb_MindR_70    7.469958e-01\n",
      "Muu_MindR_70        1.133940e+10\n",
      "HT_jets             8.622986e+10\n",
      "Mbb_MaxPt_70        1.288457e+10\n",
      "Mbb_MaxM_70         3.015329e+10\n",
      "Mjjj_MaxPt          4.929371e+10\n",
      "Centrality_all      1.993126e-02\n",
      "hpmass              1.056712e+04\n",
      "dtype: float64 [ -1 400]\n",
      "(91154, 27) [ 0  1  2  3  4  5  6  7  8  9 10 11 12 13 14 15 16 17 18 19 20 21 22 23\n",
      " 24 25 26]\n",
      "(91154, 27) nJets                         -0.001379\n",
      "nBTags_70                     -0.044992\n",
      "pT_jet1                       -0.330961\n",
      "Mbb_MindR_70                  -0.239017\n",
      "pT_jet5                       -0.124608\n",
      "H1_all                         0.210930\n",
      "dRbb_avg_70                   -0.408704\n",
      "dRlepbb_MindR_70              -0.066357\n",
      "Muu_MindR_70                  -0.063371\n",
      "HT_jets                       -0.283592\n",
      "Mbb_MaxPt_70                  -0.357168\n",
      "Mbb_MaxM_70                   -0.432471\n",
      "Mjjj_MaxPt                    -0.277133\n",
      "Centrality_all                 0.114232\n",
      "hpmass                        -0.837426\n",
      "pT_jet1divhpmass            -552.494373\n",
      "Mbb_MindR_70divhpmass       -473.726093\n",
      "pT_jet5divhpmass            -602.062403\n",
      "H1_alldivhpmass             -363.536537\n",
      "dRbb_avg_70divhpmass        -553.230391\n",
      "dRlepbb_MindR_70divhpmass   -492.691860\n",
      "Muu_MindR_70divhpmass       -333.111114\n",
      "HT_jetsdivhpmass            -630.688888\n",
      "Mbb_MaxPt_70divhpmass       -336.636502\n",
      "Mbb_MaxM_70divhpmass        -436.907296\n",
      "Mjjj_MaxPtdivhpmass         -410.821928\n",
      "Centrality_alldivhpmass     -598.995161\n",
      "dtype: float64 nJets                        9.579059e-01\n",
      "nBTags_70                    8.413024e-01\n",
      "pT_jet1                      3.323764e-01\n",
      "Mbb_MindR_70                 2.864095e-01\n",
      "pT_jet5                      6.118930e-01\n",
      "H1_all                       1.228564e+00\n",
      "dRbb_avg_70                  7.939438e-01\n",
      "dRlepbb_MindR_70             8.728742e-01\n",
      "Muu_MindR_70                 8.056803e-01\n",
      "HT_jets                      4.126990e-01\n",
      "Mbb_MaxPt_70                 3.168822e-01\n",
      "Mbb_MaxM_70                  3.022885e-01\n",
      "Mjjj_MaxPt                   5.667903e-01\n",
      "Centrality_all               1.034066e+00\n",
      "hpmass                       1.503140e-24\n",
      "pT_jet1divhpmass             1.442457e+05\n",
      "Mbb_MindR_70divhpmass        8.538631e+04\n",
      "pT_jet5divhpmass             9.886466e+04\n",
      "H1_alldivhpmass              1.266633e+05\n",
      "dRbb_avg_70divhpmass         3.175756e+04\n",
      "dRlepbb_MindR_70divhpmass    5.998801e+04\n",
      "Muu_MindR_70divhpmass        1.369606e+05\n",
      "HT_jetsdivhpmass             1.210144e+05\n",
      "Mbb_MaxPt_70divhpmass        7.701533e+04\n",
      "Mbb_MaxM_70divhpmass         8.455645e+04\n",
      "Mjjj_MaxPtdivhpmass          1.143654e+05\n",
      "Centrality_alldivhpmass      4.840051e+04\n",
      "dtype: float64 [-0.83742645]\n",
      "0.49777978915150667\n"
     ]
    }
   ],
   "source": [
    "print( X_train.shape)\n",
    "#X_test[\"hpmass\"]=400\n",
    "print(X_test.shape,X_test.mean(axis=0),X_test.var(axis=0),X_test.hpmass.unique())\n",
    "X_testnn,y_testnn,w_testnn =mpwss.transform(X_test,y_test,sample_weight=w_test)\n",
    "X_testnn.hpmass=X_testnn[y_testnn>0.5].hpmass.unique()[0]\n",
    "print(X_testnn.shape,X_testnn.mean(axis=0),X_testnn.var(axis=0),X_testnn.hpmass.unique())\n",
    "roc_auc_nn=1.-roc_auc_score(y_test, nnmpmodel.predict(X_testnn), sample_weight=w_test)\n",
    "print (roc_auc_nn)"
   ]
  },
  {
   "cell_type": "code",
   "execution_count": null,
   "metadata": {},
   "outputs": [],
   "source": []
  }
 ],
 "metadata": {
  "kernelspec": {
   "display_name": "Python 3",
   "language": "python",
   "name": "python3"
  },
  "language_info": {
   "codemirror_mode": {
    "name": "ipython",
    "version": 3
   },
   "file_extension": ".py",
   "mimetype": "text/x-python",
   "name": "python",
   "nbconvert_exporter": "python",
   "pygments_lexer": "ipython3",
   "version": "3.6.7"
  }
 },
 "nbformat": 4,
 "nbformat_minor": 4
}
