{
 "cells": [
  {
   "cell_type": "markdown",
   "metadata": {
    "colab_type": "text",
    "id": "NT432ToVdACf"
   },
   "source": [
    "# Notebook test in Colab"
   ]
  },
  {
   "cell_type": "markdown",
   "metadata": {
    "colab_type": "text",
    "id": "WZF6xR5hm48w"
   },
   "source": [
    "## Setup"
   ]
  },
  {
   "cell_type": "markdown",
   "metadata": {
    "colab_type": "text",
    "id": "8b2042wPdIZ4"
   },
   "source": [
    "Check that a GPU is going to be used"
   ]
  },
  {
   "cell_type": "code",
   "execution_count": 1,
   "metadata": {},
   "outputs": [
    {
     "name": "stderr",
     "output_type": "stream",
     "text": [
      "Using TensorFlow backend.\n",
      "WARNING: Logging before flag parsing goes to stderr.\n",
      "W0728 21:56:39.759698 140426208696128 deprecation_wrapper.py:119] From /nfs/pic.es/user/s/salvador/.local/lib/python3.7/site-packages/keras/backend/tensorflow_backend.py:174: The name tf.get_default_session is deprecated. Please use tf.compat.v1.get_default_session instead.\n",
      "\n",
      "W0728 21:56:39.761249 140426208696128 deprecation_wrapper.py:119] From /nfs/pic.es/user/s/salvador/.local/lib/python3.7/site-packages/keras/backend/tensorflow_backend.py:181: The name tf.ConfigProto is deprecated. Please use tf.compat.v1.ConfigProto instead.\n",
      "\n",
      "W0728 21:56:39.762398 140426208696128 deprecation_wrapper.py:119] From /nfs/pic.es/user/s/salvador/.local/lib/python3.7/site-packages/keras/backend/tensorflow_backend.py:186: The name tf.Session is deprecated. Please use tf.compat.v1.Session instead.\n",
      "\n",
      "W0728 21:56:39.779688 140426208696128 deprecation_wrapper.py:119] From /nfs/pic.es/user/s/salvador/.local/lib/python3.7/site-packages/keras/backend/tensorflow_backend.py:190: The name tf.global_variables is deprecated. Please use tf.compat.v1.global_variables instead.\n",
      "\n"
     ]
    },
    {
     "name": "stdout",
     "output_type": "stream",
     "text": [
      "[name: \"/device:CPU:0\"\n",
      "device_type: \"CPU\"\n",
      "memory_limit: 268435456\n",
      "locality {\n",
      "}\n",
      "incarnation: 2375847270165842188\n",
      ", name: \"/device:XLA_CPU:0\"\n",
      "device_type: \"XLA_CPU\"\n",
      "memory_limit: 17179869184\n",
      "locality {\n",
      "}\n",
      "incarnation: 4377043982545530441\n",
      "physical_device_desc: \"device: XLA_CPU device\"\n",
      ", name: \"/device:GPU:0\"\n",
      "device_type: \"GPU\"\n",
      "memory_limit: 10813738189\n",
      "locality {\n",
      "  bus_id: 1\n",
      "  links {\n",
      "  }\n",
      "}\n",
      "incarnation: 17958402841481427099\n",
      "physical_device_desc: \"device: 0, name: GeForce RTX 2080 Ti, pci bus id: 0000:61:00.0, compute capability: 7.5\"\n",
      ", name: \"/device:XLA_GPU:0\"\n",
      "device_type: \"XLA_GPU\"\n",
      "memory_limit: 17179869184\n",
      "locality {\n",
      "}\n",
      "incarnation: 7996794733397235399\n",
      "physical_device_desc: \"device: XLA_GPU device\"\n",
      "]\n",
      "True\n",
      "GPU's seen by Keras  1\n"
     ]
    }
   ],
   "source": [
    "import tensorflow as tf\n",
    "import keras\n",
    "tf.__version__\n",
    "from tensorflow.python.client import device_lib\n",
    "print(device_lib.list_local_devices())\n",
    "print('GPU' in str(device_lib.list_local_devices()))\n",
    "tf.device(\"XLA_GPU\")\n",
    "from keras import backend\n",
    "print(\"GPU's seen by Keras \",len(backend.tensorflow_backend._get_available_gpus()))"
   ]
  },
  {
   "cell_type": "code",
   "execution_count": 2,
   "metadata": {
    "colab": {
     "base_uri": "https://localhost:8080/",
     "height": 34
    },
    "colab_type": "code",
    "id": "qAJZgat9WOcd",
    "outputId": "86f97d89-1489-46a2-bcce-0c7af53de5a6"
   },
   "outputs": [],
   "source": [
    "#!git clone -b allevaluation --single-branch https://github.com/asalvadorsalas/HplusML.git\n",
    "#import sys\n",
    "#sys.path.append(\"HplusML\") #Include the package to python sys path"
   ]
  },
  {
   "cell_type": "markdown",
   "metadata": {
    "colab_type": "text",
    "id": "5LGE1UbhdU3r"
   },
   "source": [
    "Get one of the samples from personal web and move them to a folder in the machine. If you load the data from another disk the training will take more time!"
   ]
  },
  {
   "cell_type": "code",
   "execution_count": 3,
   "metadata": {
    "colab": {
     "base_uri": "https://localhost:8080/",
     "height": 238
    },
    "colab_type": "code",
    "id": "zZWpiLDMdcQL",
    "outputId": "4bb950ee-8fae-4f9c-a024-4b81a0dd06ee"
   },
   "outputs": [
    {
     "name": "stdout",
     "output_type": "stream",
     "text": [
      "--2019-07-28 21:56:51--  http://adsalvad.web.cern.ch/adsalvad/HplusML/pandas_INC_ge6jge4b.h5\n",
      "Resolving adsalvad.web.cern.ch (adsalvad.web.cern.ch)... 137.138.123.56, 2001:1458:d00:16::187\n",
      "Connecting to adsalvad.web.cern.ch (adsalvad.web.cern.ch)|137.138.123.56|:80... connected.\n",
      "HTTP request sent, awaiting response... 200 OK\n",
      "Length: 51165780 (49M) [text/plain]\n",
      "Saving to: ‘pandas_INC_ge6jge4b.h5’\n",
      "\n",
      "100%[======================================>] 51,165,780  34.3MB/s   in 1.4s   \n",
      "\n",
      "2019-07-28 21:56:52 (34.3 MB/s) - ‘pandas_INC_ge6jge4b.h5’ saved [51165780/51165780]\n",
      "\n",
      "pandas_INC_ge6jge4b.h5\n"
     ]
    }
   ],
   "source": [
    "!wget http://adsalvad.web.cern.ch/adsalvad/HplusML/pandas_INC_ge6jge4b.h5 \n",
    "!cp pandas_INC_ge6jge4b.h5 /tmp/salvador/\n",
    "!ls /tmp/salvador"
   ]
  },
  {
   "cell_type": "markdown",
   "metadata": {
    "colab_type": "text",
    "id": "nZwYGLgufU68"
   },
   "source": [
    "## Importing the pandas file"
   ]
  },
  {
   "cell_type": "code",
   "execution_count": 4,
   "metadata": {
    "colab": {
     "base_uri": "https://localhost:8080/",
     "height": 51
    },
    "colab_type": "code",
    "id": "soazPSjed7QW",
    "outputId": "dc7f6beb-7c8f-4be9-84cd-e37ef5e88291"
   },
   "outputs": [
    {
     "name": "stdout",
     "output_type": "stream",
     "text": [
      "1.16.4 0.25.0 3.5.2\n",
      "Use these versions...\n",
      "1.16.4 0.25.0 3.5.2 <-- (worked in pic)\n"
     ]
    }
   ],
   "source": [
    "import pandas as pd\n",
    "import numpy as np\n",
    "import tables\n",
    "import h5py\n",
    "import joblib\n",
    "print(np.version.version,pd.__version__, tables.__version__, )\n",
    "print(\"Use these versions...\")\n",
    "print(\"1.16.4 0.25.0 3.5.2 <-- (worked in pic)\")"
   ]
  },
  {
   "cell_type": "markdown",
   "metadata": {
    "colab_type": "text",
    "id": "t6mQ4K8tfkMs"
   },
   "source": [
    "With pandas you can load the data, you need the file and the name of the item. I usually use the same name."
   ]
  },
  {
   "cell_type": "code",
   "execution_count": 5,
   "metadata": {
    "colab": {},
    "colab_type": "code",
    "id": "3OIbsijKfUeT"
   },
   "outputs": [],
   "source": [
    "df_mc = pd.read_hdf('/tmp/salvador/pandas_INC_ge6jge4b.h5','INC_ge6jge4b')"
   ]
  },
  {
   "cell_type": "markdown",
   "metadata": {
    "colab_type": "text",
    "id": "MRBWvRXelfzE"
   },
   "source": [
    "The pandas package allows visualisation and easy data-analysis management. This df_mc is a big matrix with the variables as columns and events as rows\n",
    "\n",
    "In this particular example not only variables were stored... I also saved the overall weight, process, sample group, region and hpmass are stored"
   ]
  },
  {
   "cell_type": "code",
   "execution_count": 6,
   "metadata": {
    "colab": {
     "base_uri": "https://localhost:8080/",
     "height": 309
    },
    "colab_type": "code",
    "id": "-MDrBK89l6SI",
    "outputId": "5c9fffc8-d445-4f4d-82cf-e28e0237375b"
   },
   "outputs": [
    {
     "data": {
      "text/html": [
       "<div>\n",
       "<style scoped>\n",
       "    .dataframe tbody tr th:only-of-type {\n",
       "        vertical-align: middle;\n",
       "    }\n",
       "\n",
       "    .dataframe tbody tr th {\n",
       "        vertical-align: top;\n",
       "    }\n",
       "\n",
       "    .dataframe thead th {\n",
       "        text-align: right;\n",
       "    }\n",
       "</style>\n",
       "<table border=\"1\" class=\"dataframe\">\n",
       "  <thead>\n",
       "    <tr style=\"text-align: right;\">\n",
       "      <th></th>\n",
       "      <th>index</th>\n",
       "      <th>Mbb_MindR_70</th>\n",
       "      <th>eventNumber</th>\n",
       "      <th>Muu_MindR_70</th>\n",
       "      <th>nBTags_70</th>\n",
       "      <th>Centrality_all</th>\n",
       "      <th>pT_jet5</th>\n",
       "      <th>dRlepbb_MindR_70</th>\n",
       "      <th>H1_all</th>\n",
       "      <th>Mjjj_MaxPt</th>\n",
       "      <th>...</th>\n",
       "      <th>dRbb_avg_70</th>\n",
       "      <th>nJets</th>\n",
       "      <th>Mbb_MaxPt_70</th>\n",
       "      <th>HT_jets</th>\n",
       "      <th>weight</th>\n",
       "      <th>process</th>\n",
       "      <th>group</th>\n",
       "      <th>region</th>\n",
       "      <th>pT_jet1</th>\n",
       "      <th>hpmass</th>\n",
       "    </tr>\n",
       "  </thead>\n",
       "  <tbody>\n",
       "    <tr>\n",
       "      <th>1853266</th>\n",
       "      <td>0</td>\n",
       "      <td>78006.718750</td>\n",
       "      <td>26311789</td>\n",
       "      <td>93472.070312</td>\n",
       "      <td>4</td>\n",
       "      <td>0.647530</td>\n",
       "      <td>48389.015625</td>\n",
       "      <td>2.942365</td>\n",
       "      <td>0.428227</td>\n",
       "      <td>165577.281250</td>\n",
       "      <td>...</td>\n",
       "      <td>1.836845</td>\n",
       "      <td>6</td>\n",
       "      <td>78006.718750</td>\n",
       "      <td>410279.37500</td>\n",
       "      <td>0.769165</td>\n",
       "      <td>ttlight</td>\n",
       "      <td>t#bar{t} + light</td>\n",
       "      <td>INC_ge6jge4b</td>\n",
       "      <td>94875.250000</td>\n",
       "      <td>-1</td>\n",
       "    </tr>\n",
       "    <tr>\n",
       "      <th>1853267</th>\n",
       "      <td>1</td>\n",
       "      <td>144572.250000</td>\n",
       "      <td>8057383</td>\n",
       "      <td>86068.453125</td>\n",
       "      <td>4</td>\n",
       "      <td>0.636615</td>\n",
       "      <td>38330.675781</td>\n",
       "      <td>2.980346</td>\n",
       "      <td>0.077838</td>\n",
       "      <td>184632.640625</td>\n",
       "      <td>...</td>\n",
       "      <td>2.357118</td>\n",
       "      <td>6</td>\n",
       "      <td>144572.250000</td>\n",
       "      <td>470684.46875</td>\n",
       "      <td>0.867114</td>\n",
       "      <td>ttlight</td>\n",
       "      <td>t#bar{t} + light</td>\n",
       "      <td>INC_ge6jge4b</td>\n",
       "      <td>158391.453125</td>\n",
       "      <td>-1</td>\n",
       "    </tr>\n",
       "    <tr>\n",
       "      <th>1853268</th>\n",
       "      <td>2</td>\n",
       "      <td>45798.390625</td>\n",
       "      <td>21899308</td>\n",
       "      <td>283880.406250</td>\n",
       "      <td>4</td>\n",
       "      <td>0.649095</td>\n",
       "      <td>72458.781250</td>\n",
       "      <td>1.807999</td>\n",
       "      <td>0.004904</td>\n",
       "      <td>153976.984375</td>\n",
       "      <td>...</td>\n",
       "      <td>1.430680</td>\n",
       "      <td>6</td>\n",
       "      <td>81811.507812</td>\n",
       "      <td>577440.87500</td>\n",
       "      <td>0.660478</td>\n",
       "      <td>ttlight</td>\n",
       "      <td>t#bar{t} + light</td>\n",
       "      <td>INC_ge6jge4b</td>\n",
       "      <td>182397.343750</td>\n",
       "      <td>-1</td>\n",
       "    </tr>\n",
       "    <tr>\n",
       "      <th>1853269</th>\n",
       "      <td>3</td>\n",
       "      <td>68210.140625</td>\n",
       "      <td>18972816</td>\n",
       "      <td>156986.078125</td>\n",
       "      <td>4</td>\n",
       "      <td>0.663991</td>\n",
       "      <td>33645.386719</td>\n",
       "      <td>3.255158</td>\n",
       "      <td>0.019155</td>\n",
       "      <td>251311.531250</td>\n",
       "      <td>...</td>\n",
       "      <td>2.663929</td>\n",
       "      <td>7</td>\n",
       "      <td>152639.437500</td>\n",
       "      <td>424901.68750</td>\n",
       "      <td>0.605552</td>\n",
       "      <td>ttlight</td>\n",
       "      <td>t#bar{t} + light</td>\n",
       "      <td>INC_ge6jge4b</td>\n",
       "      <td>154738.656250</td>\n",
       "      <td>-1</td>\n",
       "    </tr>\n",
       "    <tr>\n",
       "      <th>1853270</th>\n",
       "      <td>4</td>\n",
       "      <td>67664.296875</td>\n",
       "      <td>11299806</td>\n",
       "      <td>43554.640625</td>\n",
       "      <td>4</td>\n",
       "      <td>0.743293</td>\n",
       "      <td>45294.984375</td>\n",
       "      <td>3.130159</td>\n",
       "      <td>0.119582</td>\n",
       "      <td>156184.890625</td>\n",
       "      <td>...</td>\n",
       "      <td>1.951383</td>\n",
       "      <td>6</td>\n",
       "      <td>98741.585938</td>\n",
       "      <td>371469.62500</td>\n",
       "      <td>0.350783</td>\n",
       "      <td>ttlight</td>\n",
       "      <td>t#bar{t} + light</td>\n",
       "      <td>INC_ge6jge4b</td>\n",
       "      <td>94807.296875</td>\n",
       "      <td>-1</td>\n",
       "    </tr>\n",
       "  </tbody>\n",
       "</table>\n",
       "<p>5 rows × 21 columns</p>\n",
       "</div>"
      ],
      "text/plain": [
       "         index   Mbb_MindR_70  eventNumber   Muu_MindR_70  nBTags_70  \\\n",
       "1853266      0   78006.718750     26311789   93472.070312          4   \n",
       "1853267      1  144572.250000      8057383   86068.453125          4   \n",
       "1853268      2   45798.390625     21899308  283880.406250          4   \n",
       "1853269      3   68210.140625     18972816  156986.078125          4   \n",
       "1853270      4   67664.296875     11299806   43554.640625          4   \n",
       "\n",
       "         Centrality_all       pT_jet5  dRlepbb_MindR_70    H1_all  \\\n",
       "1853266        0.647530  48389.015625          2.942365  0.428227   \n",
       "1853267        0.636615  38330.675781          2.980346  0.077838   \n",
       "1853268        0.649095  72458.781250          1.807999  0.004904   \n",
       "1853269        0.663991  33645.386719          3.255158  0.019155   \n",
       "1853270        0.743293  45294.984375          3.130159  0.119582   \n",
       "\n",
       "            Mjjj_MaxPt  ...  dRbb_avg_70  nJets   Mbb_MaxPt_70       HT_jets  \\\n",
       "1853266  165577.281250  ...     1.836845      6   78006.718750  410279.37500   \n",
       "1853267  184632.640625  ...     2.357118      6  144572.250000  470684.46875   \n",
       "1853268  153976.984375  ...     1.430680      6   81811.507812  577440.87500   \n",
       "1853269  251311.531250  ...     2.663929      7  152639.437500  424901.68750   \n",
       "1853270  156184.890625  ...     1.951383      6   98741.585938  371469.62500   \n",
       "\n",
       "           weight  process             group        region        pT_jet1  \\\n",
       "1853266  0.769165  ttlight  t#bar{t} + light  INC_ge6jge4b   94875.250000   \n",
       "1853267  0.867114  ttlight  t#bar{t} + light  INC_ge6jge4b  158391.453125   \n",
       "1853268  0.660478  ttlight  t#bar{t} + light  INC_ge6jge4b  182397.343750   \n",
       "1853269  0.605552  ttlight  t#bar{t} + light  INC_ge6jge4b  154738.656250   \n",
       "1853270  0.350783  ttlight  t#bar{t} + light  INC_ge6jge4b   94807.296875   \n",
       "\n",
       "         hpmass  \n",
       "1853266      -1  \n",
       "1853267      -1  \n",
       "1853268      -1  \n",
       "1853269      -1  \n",
       "1853270      -1  \n",
       "\n",
       "[5 rows x 21 columns]"
      ]
     },
     "execution_count": 6,
     "metadata": {},
     "output_type": "execute_result"
    }
   ],
   "source": [
    "df_mc.head()"
   ]
  },
  {
   "cell_type": "markdown",
   "metadata": {
    "colab_type": "text",
    "id": "4Qr2-O1zmvC0"
   },
   "source": [
    "## Preparing training samples"
   ]
  },
  {
   "cell_type": "markdown",
   "metadata": {
    "colab_type": "text",
    "id": "WWLH-5Ypobwc"
   },
   "source": [
    "The HpTrainingFrame class prepares the data for machine learning.\n",
    "\n",
    "The prepare function splits the pandas into training and testing data. Default trains with even events.\n",
    "\n",
    "Also returns the labels 1 for signal and 0 for background . If you specify a mass, it will return only the corresponding signal. If hpmass is not specified or \"multi\", will return all signals.\n",
    "\n",
    "The remaining columns will be the ones for the training\n",
    "\n",
    "`feature_names=[\"nJets\",\"nBTags_70\",\"pT_jet1\",\"Mbb_MindR_70\",\"pT_jet5\",\"H1_all\",\"dRbb_avg_70\",\"dRlepbb_MindR_70\",\"Muu_MindR_70\",\"HT_jets\",\"Mbb_MaxPt_70\",\"Mbb_MaxM_70\",\"Mjjj_MaxPt\",\"Centrality_all\"]` \n",
    "\n",
    "but it can also return or not a column with the truth hpmass"
   ]
  },
  {
   "cell_type": "code",
   "execution_count": 7,
   "metadata": {
    "colab": {},
    "colab_type": "code",
    "id": "d12Hl_uTmnA-"
   },
   "outputs": [],
   "source": [
    "import HpTrainingFrame\n",
    "htf = HpTrainingFrame.HpTrainingFrame(df_mc)"
   ]
  },
  {
   "cell_type": "code",
   "execution_count": 8,
   "metadata": {
    "colab": {},
    "colab_type": "code",
    "id": "uSa3jo7JqkMF"
   },
   "outputs": [],
   "source": [
    "X_train, X_test, X_eval, y_train, y_test, y_eval, w_train, w_test, w_eval = htf.prepare(hpmass=\"multi\",region=None,addMass=True)"
   ]
  },
  {
   "cell_type": "code",
   "execution_count": 9,
   "metadata": {
    "colab": {
     "base_uri": "https://localhost:8080/",
     "height": 117
    },
    "colab_type": "code",
    "id": "n92OCi35rUpX",
    "outputId": "384bd9a9-5182-4112-d8bd-9ac656bc5c26"
   },
   "outputs": [
    {
     "name": "stdout",
     "output_type": "stream",
     "text": [
      "Example of bkg --> label =  0\n"
     ]
    },
    {
     "data": {
      "text/html": [
       "<div>\n",
       "<style scoped>\n",
       "    .dataframe tbody tr th:only-of-type {\n",
       "        vertical-align: middle;\n",
       "    }\n",
       "\n",
       "    .dataframe tbody tr th {\n",
       "        vertical-align: top;\n",
       "    }\n",
       "\n",
       "    .dataframe thead th {\n",
       "        text-align: right;\n",
       "    }\n",
       "</style>\n",
       "<table border=\"1\" class=\"dataframe\">\n",
       "  <thead>\n",
       "    <tr style=\"text-align: right;\">\n",
       "      <th></th>\n",
       "      <th>nJets</th>\n",
       "      <th>nBTags_70</th>\n",
       "      <th>pT_jet1</th>\n",
       "      <th>Mbb_MindR_70</th>\n",
       "      <th>pT_jet5</th>\n",
       "      <th>H1_all</th>\n",
       "      <th>dRbb_avg_70</th>\n",
       "      <th>dRlepbb_MindR_70</th>\n",
       "      <th>Muu_MindR_70</th>\n",
       "      <th>HT_jets</th>\n",
       "      <th>Mbb_MaxPt_70</th>\n",
       "      <th>Mbb_MaxM_70</th>\n",
       "      <th>Mjjj_MaxPt</th>\n",
       "      <th>Centrality_all</th>\n",
       "      <th>hpmass</th>\n",
       "    </tr>\n",
       "  </thead>\n",
       "  <tbody>\n",
       "    <tr>\n",
       "      <th>341420</th>\n",
       "      <td>8</td>\n",
       "      <td>4</td>\n",
       "      <td>279404.96875</td>\n",
       "      <td>37746.167969</td>\n",
       "      <td>32479.382812</td>\n",
       "      <td>0.035688</td>\n",
       "      <td>2.899867</td>\n",
       "      <td>4.32505</td>\n",
       "      <td>34004.242188</td>\n",
       "      <td>650862.3125</td>\n",
       "      <td>275263.5</td>\n",
       "      <td>275263.5</td>\n",
       "      <td>193024.15625</td>\n",
       "      <td>0.589056</td>\n",
       "      <td>-1</td>\n",
       "    </tr>\n",
       "  </tbody>\n",
       "</table>\n",
       "</div>"
      ],
      "text/plain": [
       "        nJets  nBTags_70       pT_jet1  Mbb_MindR_70       pT_jet5    H1_all  \\\n",
       "341420      8          4  279404.96875  37746.167969  32479.382812  0.035688   \n",
       "\n",
       "        dRbb_avg_70  dRlepbb_MindR_70  Muu_MindR_70      HT_jets  \\\n",
       "341420     2.899867           4.32505  34004.242188  650862.3125   \n",
       "\n",
       "        Mbb_MaxPt_70  Mbb_MaxM_70    Mjjj_MaxPt  Centrality_all  hpmass  \n",
       "341420      275263.5     275263.5  193024.15625        0.589056      -1  "
      ]
     },
     "execution_count": 9,
     "metadata": {},
     "output_type": "execute_result"
    }
   ],
   "source": [
    "print(\"Example of bkg --> label = \",y_train[X_train.hpmass==-1].values[0])\n",
    "X_train[X_train.hpmass==-1].head(1)"
   ]
  },
  {
   "cell_type": "code",
   "execution_count": 10,
   "metadata": {
    "colab": {
     "base_uri": "https://localhost:8080/",
     "height": 117
    },
    "colab_type": "code",
    "id": "sBX8B6yZtMwo",
    "outputId": "9d312ab5-27c2-4fbe-800a-0ae2a13b362a"
   },
   "outputs": [
    {
     "name": "stdout",
     "output_type": "stream",
     "text": [
      "Example of signal --> label =  1\n"
     ]
    },
    {
     "data": {
      "text/html": [
       "<div>\n",
       "<style scoped>\n",
       "    .dataframe tbody tr th:only-of-type {\n",
       "        vertical-align: middle;\n",
       "    }\n",
       "\n",
       "    .dataframe tbody tr th {\n",
       "        vertical-align: top;\n",
       "    }\n",
       "\n",
       "    .dataframe thead th {\n",
       "        text-align: right;\n",
       "    }\n",
       "</style>\n",
       "<table border=\"1\" class=\"dataframe\">\n",
       "  <thead>\n",
       "    <tr style=\"text-align: right;\">\n",
       "      <th></th>\n",
       "      <th>nJets</th>\n",
       "      <th>nBTags_70</th>\n",
       "      <th>pT_jet1</th>\n",
       "      <th>Mbb_MindR_70</th>\n",
       "      <th>pT_jet5</th>\n",
       "      <th>H1_all</th>\n",
       "      <th>dRbb_avg_70</th>\n",
       "      <th>dRlepbb_MindR_70</th>\n",
       "      <th>Muu_MindR_70</th>\n",
       "      <th>HT_jets</th>\n",
       "      <th>Mbb_MaxPt_70</th>\n",
       "      <th>Mbb_MaxM_70</th>\n",
       "      <th>Mjjj_MaxPt</th>\n",
       "      <th>Centrality_all</th>\n",
       "      <th>hpmass</th>\n",
       "    </tr>\n",
       "  </thead>\n",
       "  <tbody>\n",
       "    <tr>\n",
       "      <th>122213</th>\n",
       "      <td>6</td>\n",
       "      <td>4</td>\n",
       "      <td>175288.5</td>\n",
       "      <td>97883.515625</td>\n",
       "      <td>86733.34375</td>\n",
       "      <td>0.584247</td>\n",
       "      <td>2.045868</td>\n",
       "      <td>1.363475</td>\n",
       "      <td>139964.9375</td>\n",
       "      <td>742981.625</td>\n",
       "      <td>163673.53125</td>\n",
       "      <td>301970.09375</td>\n",
       "      <td>238638.71875</td>\n",
       "      <td>0.583722</td>\n",
       "      <td>400</td>\n",
       "    </tr>\n",
       "  </tbody>\n",
       "</table>\n",
       "</div>"
      ],
      "text/plain": [
       "        nJets  nBTags_70   pT_jet1  Mbb_MindR_70      pT_jet5    H1_all  \\\n",
       "122213      6          4  175288.5  97883.515625  86733.34375  0.584247   \n",
       "\n",
       "        dRbb_avg_70  dRlepbb_MindR_70  Muu_MindR_70     HT_jets  Mbb_MaxPt_70  \\\n",
       "122213     2.045868          1.363475   139964.9375  742981.625  163673.53125   \n",
       "\n",
       "         Mbb_MaxM_70    Mjjj_MaxPt  Centrality_all  hpmass  \n",
       "122213  301970.09375  238638.71875        0.583722     400  "
      ]
     },
     "execution_count": 10,
     "metadata": {},
     "output_type": "execute_result"
    }
   ],
   "source": [
    "print(\"Example of signal --> label = \",y_train[X_train.hpmass==400].values[0])\n",
    "X_train[X_train.hpmass==400].head(1)"
   ]
  },
  {
   "cell_type": "markdown",
   "metadata": {
    "colab_type": "text",
    "id": "2Gj-7isDtcfk"
   },
   "source": [
    "Important! For the MassParameterised classifier the labels are the hplus mass so we need this step"
   ]
  },
  {
   "cell_type": "code",
   "execution_count": 11,
   "metadata": {
    "colab": {
     "base_uri": "https://localhost:8080/",
     "height": 51
    },
    "colab_type": "code",
    "id": "Sy88vVbdvfo0",
    "outputId": "5e223dea-847f-4df3-b79b-004559c6c936"
   },
   "outputs": [
    {
     "name": "stdout",
     "output_type": "stream",
     "text": [
      "[  -1 1400  700  200  600  500 1000  900  800 1600  350  300  400  275\n",
      " 1800 2000 1200  250  225]\n"
     ]
    }
   ],
   "source": [
    "y_train = X_train.hpmass.copy()\n",
    "y_test = X_test.hpmass.copy()\n",
    "print(y_train.unique())"
   ]
  },
  {
   "cell_type": "markdown",
   "metadata": {
    "colab_type": "text",
    "id": "B1kZB17Tv3-c"
   },
   "source": [
    "## Pre-training classes"
   ]
  },
  {
   "cell_type": "markdown",
   "metadata": {
    "colab_type": "text",
    "id": "2LoI0-AEv67o"
   },
   "source": [
    "### Multi SBWeight Scaler"
   ]
  },
  {
   "cell_type": "markdown",
   "metadata": {
    "colab_type": "text",
    "id": "7Cw22Sh3wAW6"
   },
   "source": [
    "   Class that makes the integral of the signal/background weights be 0.5.\n",
    "   The MultiS allows to flatten the integral for the different signals\n"
   ]
  },
  {
   "cell_type": "code",
   "execution_count": 12,
   "metadata": {
    "colab": {
     "base_uri": "https://localhost:8080/"
    },
    "colab_type": "code",
    "id": "ULAnb3FWvpjY",
    "outputId": "cb96f596-6bdf-47b6-809a-8b34bc754b10"
   },
   "outputs": [
    {
     "name": "stdout",
     "output_type": "stream",
     "text": [
      "The weights that the MultiSBWeightScaler learns:\n",
      "{200: 6.330181759898593e-05, 225: 4.6882277424844784e-05, 250: 4.6429438068493466e-05, 275: 5.1102611062368545e-05, 300: 8.785527710912767e-05, 350: 0.00015517754214396155, 400: 0.00030529697848525803, 500: 0.0007353646113609462, 600: 0.0012769318908948562, 700: 0.002181859863822662, 800: 0.0037443427437358926, 900: 0.006168306769410176, 1000: 0.015865187231341758, 1200: 0.056591116654246605, 1400: 0.14651717058731545, 1600: 0.37094285148110917, 1800: 0.8770459769536209, 2000: 2.039973846697376, -1: 0.00028197737675246873}\n",
      "Examples of weights pre applying the weight:\n",
      "A 400 GeV:  0.008664788215486087 \n",
      "A 1600 GeV: 1.2579820931327263e-05 \n",
      "A bkg:      0.018992088933771595\n"
     ]
    }
   ],
   "source": [
    "from HpMLWeightTransformer import MultiSBWeightsScaler\n",
    "msb = MultiSBWeightsScaler(backgroundclass=-1) #specify which label is the background\n",
    "msb.fit(X_train,X_train.hpmass, sample_weight=w_train) #Fit functions always makes the object \"learn\" what they have to do. In this case, which scale to apply to each weight\n",
    "print(\"The weights that the MultiSBWeightScaler learns:\")\n",
    "print(msb.scale_)\n",
    "print(\"Examples of weights pre applying the weight:\")\n",
    "print(\"A 400 GeV: \",w_train[X_train.hpmass==400].values[0],\"\\nA 1600 GeV:\",w_train[X_train.hpmass==1600].values[0],\"\\nA bkg:     \", w_train[X_train.hpmass==-1].values[0])"
   ]
  },
  {
   "cell_type": "markdown",
   "metadata": {
    "colab_type": "text",
    "id": "PV4j4-QaBWeB"
   },
   "source": [
    "The transform functions apply the changes. ### bug/feature ### this function changes the input itself  "
   ]
  },
  {
   "cell_type": "code",
   "execution_count": 13,
   "metadata": {
    "colab": {},
    "colab_type": "code",
    "id": "vyzNTbvfz1cG"
   },
   "outputs": [],
   "source": [
    "X_train, y_train, w_train = msb.transform(X_train,y_train, sample_weight=w_train)\n",
    "X_test, y_test, w_test = msb.transform(X_test,y_test, sample_weight=w_test)"
   ]
  },
  {
   "cell_type": "code",
   "execution_count": 14,
   "metadata": {
    "colab": {
     "base_uri": "https://localhost:8080/"
    },
    "colab_type": "code",
    "id": "HmjeL2X51yHk",
    "outputId": "de6a786c-6294-4822-a334-04253349051d"
   },
   "outputs": [
    {
     "name": "stdout",
     "output_type": "stream",
     "text": [
      "Examples of weights after applying the weight:\n",
      "A 400 GeV:  2.645333661402573e-06 \n",
      "A 1600 GeV: 4.666394647388277e-06 \n",
      "A bkg:      5.355339416594505e-06\n"
     ]
    }
   ],
   "source": [
    "print(\"Examples of weights after applying the weight:\")\n",
    "print(\"A 400 GeV: \",w_train[X_train.hpmass==400].values[0],\"\\nA 1600 GeV:\",w_train[X_train.hpmass==1600].values[0],\"\\nA bkg:     \", w_train[X_train.hpmass==-1].values[0])"
   ]
  },
  {
   "cell_type": "markdown",
   "metadata": {
    "colab_type": "text",
    "id": "483E1zBBB8RZ"
   },
   "source": [
    "### WeightsMultiplier"
   ]
  },
  {
   "cell_type": "markdown",
   "metadata": {
    "colab_type": "text",
    "id": "GQ1iHDaiCD1f"
   },
   "source": [
    "At this point each signal is equally important for the training.\n",
    "Julian played around with scales to give more importance to low mass points."
   ]
  },
  {
   "cell_type": "code",
   "execution_count": 15,
   "metadata": {
    "colab": {
     "base_uri": "https://localhost:8080/"
    },
    "colab_type": "code",
    "id": "ou5gpzZi16eB",
    "outputId": "51f58a4e-61b4-45dc-9152-66eb7ee61847"
   },
   "outputs": [
    {
     "name": "stdout",
     "output_type": "stream",
     "text": [
      "Examples of weights pre applying the scale:\n",
      "A 400 GeV:  2.645333661402573e-06 \n",
      "A 1600 GeV: 4.666394647388277e-06 \n",
      "A bkg:      5.355339416594505e-06\n"
     ]
    }
   ],
   "source": [
    "from HpMLWeightTransformer import WeightsMultiplier\n",
    "scales={\n",
    "  200:16.,\n",
    "  225:8.,\n",
    "  250:8.,\n",
    "  275:8.,\n",
    "  300:16./3.,\n",
    "  350:4.,\n",
    "  400:8./3.,\n",
    "  500:2.,\n",
    "  600:2.,\n",
    "  700:2.,\n",
    "  800:2.,\n",
    "  900:2.,\n",
    "  1000:4./3.,\n",
    "  1200:1.,\n",
    "  1400:1.,\n",
    "  1600:1.2,\n",
    "  1800:1.5,\n",
    "  2000:4.,\n",
    "}\n",
    "scl = WeightsMultiplier(scales=scales,backgroundclass=-1)\n",
    "scl.fit(X_train,X_train.hpmass, sample_weight=w_train) #this function does completely nothing is defined to maintain the rest of the classes structure\n",
    "print(\"Examples of weights pre applying the scale:\")\n",
    "print(\"A 400 GeV: \",w_train[X_train.hpmass==400].values[0],\"\\nA 1600 GeV:\",w_train[X_train.hpmass==1600].values[0],\"\\nA bkg:     \", w_train[X_train.hpmass==-1].values[0])"
   ]
  },
  {
   "cell_type": "code",
   "execution_count": 16,
   "metadata": {
    "colab": {
     "base_uri": "https://localhost:8080/"
    },
    "colab_type": "code",
    "id": "3Pg3bFiU0-k5",
    "outputId": "b371157c-e904-447b-d1fb-41b1a0a5ff48"
   },
   "outputs": [
    {
     "name": "stdout",
     "output_type": "stream",
     "text": [
      "Examples of weights post applying the scale:\n",
      "A 400 GeV:  7.054223097073528e-06 \n",
      "A 1600 GeV: 5.599673576865933e-06 \n",
      "A bkg:      5.355339416594505e-06\n"
     ]
    }
   ],
   "source": [
    "X_train, y_train, w_train = scl.transform(X_train,y_train, sample_weight=w_train)\n",
    "X_test, y_test, w_test = scl.transform(X_test,y_test, sample_weight=w_test)\n",
    "print(\"Examples of weights post applying the scale:\")\n",
    "print(\"A 400 GeV: \",w_train[X_train.hpmass==400].values[0],\"\\nA 1600 GeV:\",w_train[X_train.hpmass==1600].values[0],\"\\nA bkg:     \", w_train[X_train.hpmass==-1].values[0])"
   ]
  },
  {
   "cell_type": "markdown",
   "metadata": {
    "colab_type": "text",
    "id": "DZiUzT2LFHay"
   },
   "source": [
    "### Background Augmentation"
   ]
  },
  {
   "cell_type": "markdown",
   "metadata": {
    "colab_type": "text",
    "id": "1uiLx_RmFLkG"
   },
   "source": [
    "The hpmass labels assigned to background are done following the same distribution as signal meaning that the hpmass input will not be used as the main discriminating variable. \n",
    "\n",
    "Problem: we have less background comparing directly to the same signal. \n",
    "\n",
    "Solution: Clone background as many times as different signals so it is ensured that all signals will have the same bkg to train against. In a NN, redundant information is unused. "
   ]
  },
  {
   "cell_type": "code",
   "execution_count": 17,
   "metadata": {
    "colab": {
     "base_uri": "https://localhost:8080/"
    },
    "colab_type": "code",
    "id": "zoUlHNl4yceu",
    "outputId": "024d6b15-eed1-472c-cfed-9d132d4098a9"
   },
   "outputs": [
    {
     "name": "stdout",
     "output_type": "stream",
     "text": [
      "Signal PDF: [200, 225, 250, 275, 300, 350, 400, 500, 600, 700, 800, 900, 1000, 1200, 1400, 1600, 1800, 2000] [0.10457516339869281, 0.052287581699346386, 0.05228758169934639, 0.05228758169934641, 0.0522875816993464, 0.0522875816993464, 0.0522875816993464, 0.052287581699346414, 0.0522875816993464, 0.0522875816993464, 0.05228758169934641, 0.0522875816993464, 0.05228758169934642, 0.05228758169934641, 0.0522875816993464, 0.06274509803921569, 0.0784313725490196, 0.2091503267973856]\n",
      "Background PDF: 0.5000000000000001\n"
     ]
    }
   ],
   "source": [
    "from HpMLMTL import HpMTLBackgroundAugmenter\n",
    "aug = HpMTLBackgroundAugmenter(backgroundclass=-1,verbose=True)\n",
    "aug.fit(X_train,X_train.hpmass, sample_weight=w_train) #learns the sumweight for each signal and background"
   ]
  },
  {
   "cell_type": "markdown",
   "metadata": {
    "colab_type": "text",
    "id": "5fu0ZhsbHMqS"
   },
   "source": [
    "The transorm function will produce background for each signal with the same weight"
   ]
  },
  {
   "cell_type": "code",
   "execution_count": 18,
   "metadata": {
    "colab": {
     "base_uri": "https://localhost:8080/"
    },
    "colab_type": "code",
    "id": "SdD3BPUNHn1-",
    "outputId": "c5a2834d-2428-45e9-a40f-87a859722a37"
   },
   "outputs": [
    {
     "name": "stdout",
     "output_type": "stream",
     "text": [
      "the following is the difference between + and - mass\n",
      "200     1.455549e-17\n",
      "225     1.369124e-17\n",
      "250     4.707849e-18\n",
      "275     5.408458e-18\n",
      "300     1.440402e-17\n",
      "350     1.252107e-17\n",
      "400     3.691317e-18\n",
      "500     5.041964e-19\n",
      "600     1.851196e-17\n",
      "700    -3.276959e-20\n",
      "800     1.505335e-17\n",
      "900     1.008530e-17\n",
      "1000    5.281105e-18\n",
      "1200   -5.866233e-19\n",
      "1400    1.197959e-17\n",
      "1600    1.030870e-17\n",
      "1800    1.842043e-17\n",
      "2000    4.817851e-17\n",
      "dtype: float64\n",
      "the following is the sum of weights\n",
      "hpmass\n",
      "200     0.209150\n",
      "225     0.104575\n",
      "250     0.104575\n",
      "275     0.104575\n",
      "300     0.104575\n",
      "350     0.104575\n",
      "400     0.104575\n",
      "500     0.104575\n",
      "600     0.104575\n",
      "700     0.104575\n",
      "800     0.104575\n",
      "900     0.104575\n",
      "1000    0.104575\n",
      "1200    0.104575\n",
      "1400    0.104575\n",
      "1600    0.125490\n",
      "1800    0.156863\n",
      "2000    0.418301\n",
      "Name: weight, dtype: float64\n",
      "the following is the difference between + and - mass\n",
      "200    -0.002804\n",
      "225    -0.001289\n",
      "250    -0.001308\n",
      "275    -0.001076\n",
      "300    -0.001032\n",
      "350    -0.002000\n",
      "400    -0.002858\n",
      "500    -0.001649\n",
      "600    -0.004310\n",
      "700    -0.003154\n",
      "800    -0.001949\n",
      "900    -0.003359\n",
      "1000   -0.001493\n",
      "1200   -0.002308\n",
      "1400   -0.002232\n",
      "1600   -0.001005\n",
      "1800   -0.002913\n",
      "2000   -0.009740\n",
      "dtype: float64\n",
      "the following is the sum of weights\n",
      "hpmass\n",
      "200     0.214789\n",
      "225     0.107508\n",
      "250     0.107488\n",
      "275     0.107720\n",
      "300     0.107764\n",
      "350     0.106797\n",
      "400     0.105938\n",
      "500     0.107147\n",
      "600     0.104486\n",
      "700     0.105643\n",
      "800     0.106847\n",
      "900     0.105437\n",
      "1000    0.107304\n",
      "1200    0.106488\n",
      "1400    0.106564\n",
      "1600    0.129550\n",
      "1800    0.160281\n",
      "2000    0.425445\n",
      "Name: weight, dtype: float64\n"
     ]
    }
   ],
   "source": [
    "X_train, y_train, w_train = aug.transform(X_train,y_train, sample_weight=w_train)\n",
    "X_test, y_test, w_test = aug.transform(X_test,y_test, sample_weight=w_test)"
   ]
  },
  {
   "cell_type": "markdown",
   "metadata": {
    "colab_type": "text",
    "id": "k2XlZj_RInoB"
   },
   "source": [
    "### Feature Divider"
   ]
  },
  {
   "cell_type": "markdown",
   "metadata": {
    "colab_type": "text",
    "id": "B-cEcid9IuKd"
   },
   "source": [
    "The idea behind a very simple NN is that is trying to minimise the loss of,\n",
    "$y=\\sigma(\\sum w_{i}x_{i})$ ,\n",
    "\n",
    "whereeach input $x_{i}$ is be multiplied by an individual weight $w_{i}$. In theory, the NN will find the best linear combination for this setup. \n",
    "\n",
    "As we suppose that our inputs are functions on the $m_{H^+}$ , so a more complex NN will have more nodes/weights that will allow to apply very complex expressions with this parameter. However, we can help the NN with more inputs with the most obvious relation, $x_{i}/m_{H^+}$, so it will find faster its relation with the other variables and will start some kind of Tylor expansion with $x_{i}/m_{H^+}$ as the first term\n",
    "\n",
    "\n"
   ]
  },
  {
   "cell_type": "code",
   "execution_count": 19,
   "metadata": {
    "colab": {
     "base_uri": "https://localhost:8080/"
    },
    "colab_type": "code",
    "id": "UI0-MgFiPDbr",
    "outputId": "064d9349-d0ec-4225-d956-ad003dca65ac"
   },
   "outputs": [
    {
     "data": {
      "text/html": [
       "<div>\n",
       "<style scoped>\n",
       "    .dataframe tbody tr th:only-of-type {\n",
       "        vertical-align: middle;\n",
       "    }\n",
       "\n",
       "    .dataframe tbody tr th {\n",
       "        vertical-align: top;\n",
       "    }\n",
       "\n",
       "    .dataframe thead th {\n",
       "        text-align: right;\n",
       "    }\n",
       "</style>\n",
       "<table border=\"1\" class=\"dataframe\">\n",
       "  <thead>\n",
       "    <tr style=\"text-align: right;\">\n",
       "      <th></th>\n",
       "      <th>nJets</th>\n",
       "      <th>nBTags_70</th>\n",
       "      <th>pT_jet1</th>\n",
       "      <th>Mbb_MindR_70</th>\n",
       "      <th>pT_jet5</th>\n",
       "      <th>H1_all</th>\n",
       "      <th>dRbb_avg_70</th>\n",
       "      <th>dRlepbb_MindR_70</th>\n",
       "      <th>Muu_MindR_70</th>\n",
       "      <th>HT_jets</th>\n",
       "      <th>Mbb_MaxPt_70</th>\n",
       "      <th>Mbb_MaxM_70</th>\n",
       "      <th>Mjjj_MaxPt</th>\n",
       "      <th>Centrality_all</th>\n",
       "      <th>hpmass</th>\n",
       "    </tr>\n",
       "  </thead>\n",
       "  <tbody>\n",
       "    <tr>\n",
       "      <th>212708</th>\n",
       "      <td>9</td>\n",
       "      <td>4</td>\n",
       "      <td>176271.59375</td>\n",
       "      <td>145684.125</td>\n",
       "      <td>60155.3125</td>\n",
       "      <td>0.040445</td>\n",
       "      <td>2.57887</td>\n",
       "      <td>2.749826</td>\n",
       "      <td>43379.183594</td>\n",
       "      <td>649318.875</td>\n",
       "      <td>145684.125</td>\n",
       "      <td>228657.28125</td>\n",
       "      <td>237817.515625</td>\n",
       "      <td>0.731782</td>\n",
       "      <td>1000</td>\n",
       "    </tr>\n",
       "  </tbody>\n",
       "</table>\n",
       "</div>"
      ],
      "text/plain": [
       "        nJets  nBTags_70       pT_jet1  Mbb_MindR_70     pT_jet5    H1_all  \\\n",
       "212708      9          4  176271.59375    145684.125  60155.3125  0.040445   \n",
       "\n",
       "        dRbb_avg_70  dRlepbb_MindR_70  Muu_MindR_70     HT_jets  Mbb_MaxPt_70  \\\n",
       "212708      2.57887          2.749826  43379.183594  649318.875    145684.125   \n",
       "\n",
       "         Mbb_MaxM_70     Mjjj_MaxPt  Centrality_all  hpmass  \n",
       "212708  228657.28125  237817.515625        0.731782    1000  "
      ]
     },
     "execution_count": 19,
     "metadata": {},
     "output_type": "execute_result"
    }
   ],
   "source": [
    "from HpMLUtils import FeatureDivider\n",
    "fd = FeatureDivider(\"hpmass\") #need to specify which variable are you using to divide, not going to divide nJets or nBTags\n",
    "fd.fit(X_train,X_train.hpmass, sample_weight=w_train) #not learning anything really...\n",
    "X_train[y_train==1000][:1].head()"
   ]
  },
  {
   "cell_type": "code",
   "execution_count": 20,
   "metadata": {
    "colab": {},
    "colab_type": "code",
    "id": "XPDfOQOMQZW-"
   },
   "outputs": [],
   "source": [
    "X_train, y_train, w_train = fd.transform(X_train,y_train, sample_weight=w_train)\n",
    "X_test, y_test, w_test = fd.transform(X_test,y_test, sample_weight=w_test)"
   ]
  },
  {
   "cell_type": "markdown",
   "metadata": {
    "colab_type": "text",
    "id": "KNm5bXKGa1PY"
   },
   "source": [
    "See an 1000 GeV mass event example after the transformation. More columns are added. "
   ]
  },
  {
   "cell_type": "code",
   "execution_count": 21,
   "metadata": {
    "colab": {
     "base_uri": "https://localhost:8080/"
    },
    "colab_type": "code",
    "id": "LLiqeYXfawNL",
    "outputId": "b281f94a-b9aa-43f2-cea8-7b7666077379"
   },
   "outputs": [
    {
     "data": {
      "text/html": [
       "<div>\n",
       "<style scoped>\n",
       "    .dataframe tbody tr th:only-of-type {\n",
       "        vertical-align: middle;\n",
       "    }\n",
       "\n",
       "    .dataframe tbody tr th {\n",
       "        vertical-align: top;\n",
       "    }\n",
       "\n",
       "    .dataframe thead th {\n",
       "        text-align: right;\n",
       "    }\n",
       "</style>\n",
       "<table border=\"1\" class=\"dataframe\">\n",
       "  <thead>\n",
       "    <tr style=\"text-align: right;\">\n",
       "      <th></th>\n",
       "      <th>nJets</th>\n",
       "      <th>nBTags_70</th>\n",
       "      <th>pT_jet1</th>\n",
       "      <th>Mbb_MindR_70</th>\n",
       "      <th>pT_jet5</th>\n",
       "      <th>H1_all</th>\n",
       "      <th>dRbb_avg_70</th>\n",
       "      <th>dRlepbb_MindR_70</th>\n",
       "      <th>Muu_MindR_70</th>\n",
       "      <th>HT_jets</th>\n",
       "      <th>...</th>\n",
       "      <th>pT_jet5divhpmass</th>\n",
       "      <th>H1_alldivhpmass</th>\n",
       "      <th>dRbb_avg_70divhpmass</th>\n",
       "      <th>dRlepbb_MindR_70divhpmass</th>\n",
       "      <th>Muu_MindR_70divhpmass</th>\n",
       "      <th>HT_jetsdivhpmass</th>\n",
       "      <th>Mbb_MaxPt_70divhpmass</th>\n",
       "      <th>Mbb_MaxM_70divhpmass</th>\n",
       "      <th>Mjjj_MaxPtdivhpmass</th>\n",
       "      <th>Centrality_alldivhpmass</th>\n",
       "    </tr>\n",
       "  </thead>\n",
       "  <tbody>\n",
       "    <tr>\n",
       "      <th>212708</th>\n",
       "      <td>9</td>\n",
       "      <td>4</td>\n",
       "      <td>176271.59375</td>\n",
       "      <td>145684.125</td>\n",
       "      <td>60155.3125</td>\n",
       "      <td>0.040445</td>\n",
       "      <td>2.57887</td>\n",
       "      <td>2.749826</td>\n",
       "      <td>43379.183594</td>\n",
       "      <td>649318.875</td>\n",
       "      <td>...</td>\n",
       "      <td>60.155313</td>\n",
       "      <td>0.00004</td>\n",
       "      <td>0.002579</td>\n",
       "      <td>0.00275</td>\n",
       "      <td>43.379184</td>\n",
       "      <td>649.318875</td>\n",
       "      <td>145.684125</td>\n",
       "      <td>228.657281</td>\n",
       "      <td>237.817516</td>\n",
       "      <td>0.000732</td>\n",
       "    </tr>\n",
       "  </tbody>\n",
       "</table>\n",
       "<p>1 rows × 27 columns</p>\n",
       "</div>"
      ],
      "text/plain": [
       "        nJets  nBTags_70       pT_jet1  Mbb_MindR_70     pT_jet5    H1_all  \\\n",
       "212708      9          4  176271.59375    145684.125  60155.3125  0.040445   \n",
       "\n",
       "        dRbb_avg_70  dRlepbb_MindR_70  Muu_MindR_70     HT_jets  ...  \\\n",
       "212708      2.57887          2.749826  43379.183594  649318.875  ...   \n",
       "\n",
       "        pT_jet5divhpmass  H1_alldivhpmass  dRbb_avg_70divhpmass  \\\n",
       "212708         60.155313          0.00004              0.002579   \n",
       "\n",
       "        dRlepbb_MindR_70divhpmass  Muu_MindR_70divhpmass  HT_jetsdivhpmass  \\\n",
       "212708                    0.00275              43.379184        649.318875   \n",
       "\n",
       "        Mbb_MaxPt_70divhpmass  Mbb_MaxM_70divhpmass  Mjjj_MaxPtdivhpmass  \\\n",
       "212708             145.684125            228.657281           237.817516   \n",
       "\n",
       "        Centrality_alldivhpmass  \n",
       "212708                 0.000732  \n",
       "\n",
       "[1 rows x 27 columns]"
      ]
     },
     "execution_count": 21,
     "metadata": {},
     "output_type": "execute_result"
    }
   ],
   "source": [
    "X_train[y_train==1000][:1].head()"
   ]
  },
  {
   "cell_type": "markdown",
   "metadata": {
    "colab_type": "text",
    "id": "SvLaWfFSf-07"
   },
   "source": [
    "### Standard Scaler"
   ]
  },
  {
   "cell_type": "markdown",
   "metadata": {
    "colab_type": "text",
    "id": "XRmoSSNFgNNp"
   },
   "source": [
    "The NN is not scale invariant and having inputs with different scales usually translates to different scales in weights, making the NN unstable, making weights change by an order of magnitude every step.\n",
    "\n",
    "The standard scaler will obtain the mean and variance of each input and then apply it."
   ]
  },
  {
   "cell_type": "code",
   "execution_count": 22,
   "metadata": {
    "colab": {
     "base_uri": "https://localhost:8080/",
     "height": 34
    },
    "colab_type": "code",
    "id": "vPYyVoI_gvnS",
    "outputId": "3b09412d-4c3a-4a2b-f64e-aa25c0c7a583"
   },
   "outputs": [
    {
     "data": {
      "text/plain": [
       "WeightedStandardScaler(copy=True, with_mean=True, with_std=True)"
      ]
     },
     "execution_count": 22,
     "metadata": {},
     "output_type": "execute_result"
    }
   ],
   "source": [
    "from HpMLFeatureNormalisation import WeightedStandardScaler\n",
    "wss=WeightedStandardScaler()\n",
    "wss.fit(X_train,X_train.hpmass, sample_weight=w_train) #variance and mean of each input\n"
   ]
  },
  {
   "cell_type": "code",
   "execution_count": 23,
   "metadata": {
    "colab": {
     "base_uri": "https://localhost:8080/",
     "height": 493
    },
    "colab_type": "code",
    "id": "naE9x9zRhRA0",
    "outputId": "30148f0f-186a-4a44-8542-8fcb75ccfb5b"
   },
   "outputs": [
    {
     "name": "stdout",
     "output_type": "stream",
     "text": [
      "Feature\t\tmean\t\tsqrt(variance)\n",
      "nJets \t 7.271471140040663 \t 1.3660894719082064\n",
      "nBTags_70 \t 4.084819928477077 \t 0.2998339467716273\n",
      "pT_jet1 \t 263711.390030526 \t 204215.2572351807\n",
      "Mbb_MindR_70 \t 104374.3010229407 \t 85174.01466562929\n",
      "pT_jet5 \t 60617.33042192924 \t 30843.303276584407\n",
      "H1_all \t 0.20190117962790796 \t 0.2011458251873726\n",
      "dRbb_avg_70 \t 2.3204342477620883 \t 0.39274823290383\n",
      "dRlepbb_MindR_70 \t 2.231133586138163 \t 0.9250884364598335\n",
      "Muu_MindR_70 \t 110593.8167963899 \t 118635.22133027633\n",
      "HT_jets \t 774903.2064692483 \t 457100.93048358953\n",
      "Mbb_MaxPt_70 \t 223160.0296638107 \t 201644.35949531282\n",
      "Mbb_MaxM_70 \t 435537.20241112297 \t 315832.33608703257\n",
      "Mjjj_MaxPt \t 381108.2530693616 \t 294906.63223956025\n",
      "Centrality_all \t 0.5876715431757465 \t 0.13883317010415136\n",
      "hpmass \t 965.6387665198234 \t 675.4488877086467\n",
      "pT_jet1divhpmass \t 395.316192622926 \t 332.2900643499042\n",
      "Mbb_MindR_70divhpmass \t 172.38018618913233 \t 162.3817480557944\n",
      "pT_jet5divhpmass \t 105.93698409483243 \t 88.0420273380624\n",
      "H1_alldivhpmass \t 0.00042052908898535966 \t 0.0006329061538512346\n",
      "dRbb_avg_70divhpmass \t 0.0044952097103822695 \t 0.0036078790394289996\n",
      "dRlepbb_MindR_70divhpmass \t 0.004374228309032287 \t 0.0040873465327648335\n",
      "Muu_MindR_70divhpmass \t 203.97818861189407 \t 289.6000121813492\n",
      "HT_jetsdivhpmass \t 1237.7379301858548 \t 956.8544471609753\n",
      "Mbb_MaxPt_70divhpmass \t 363.10121144298665 \t 408.77479986823533\n",
      "Mbb_MaxM_70divhpmass \t 696.3446184697378 \t 627.8882004114\n",
      "Mjjj_MaxPtdivhpmass \t 633.9663140286951 \t 675.3332053386686\n",
      "Centrality_alldivhpmass \t 0.0011327489323438133 \t 0.0009403751796803454\n"
     ]
    }
   ],
   "source": [
    "print(\"Feature\\t\\tmean\\t\\tsqrt(variance)\")\n",
    "for feature, mean, scale in zip(X_train.columns,wss.mean_,wss.scale_):\n",
    "  print (feature,\"\\t\", mean, \"\\t\" ,scale)\n",
    "  \n"
   ]
  },
  {
   "cell_type": "code",
   "execution_count": 24,
   "metadata": {
    "colab": {
     "base_uri": "https://localhost:8080/",
     "height": 85
    },
    "colab_type": "code",
    "id": "bvb7cuEbhj_R",
    "outputId": "46551d00-d5a4-4385-835f-1303e460033c"
   },
   "outputs": [
    {
     "name": "stdout",
     "output_type": "stream",
     "text": [
      "(1662533, 27) [ 0  1  2  3  4  5  6  7  8  9 10 11 12 13 14 15 16 17 18 19 20 21 22 23\n",
      " 24 25 26]\n",
      "(1676652, 27) [ 0  1  2  3  4  5  6  7  8  9 10 11 12 13 14 15 16 17 18 19 20 21 22 23\n",
      " 24 25 26]\n"
     ]
    }
   ],
   "source": [
    "X_train, y_train, w_train = wss.transform(X_train,y_train, sample_weight=w_train)\n",
    "X_test, y_test, w_test = wss.transform(X_test,y_test, sample_weight=w_test)"
   ]
  },
  {
   "cell_type": "markdown",
   "metadata": {
    "colab_type": "text",
    "id": "SykiTgpdkaqn"
   },
   "source": [
    "Here we can see that the variables are brought to a smaller scale"
   ]
  },
  {
   "cell_type": "code",
   "execution_count": 25,
   "metadata": {
    "colab": {
     "base_uri": "https://localhost:8080/",
     "height": 100
    },
    "colab_type": "code",
    "id": "9Lpsky4skXqn",
    "outputId": "70266c24-198b-487d-8f22-a1bd2506fae7"
   },
   "outputs": [
    {
     "data": {
      "text/html": [
       "<div>\n",
       "<style scoped>\n",
       "    .dataframe tbody tr th:only-of-type {\n",
       "        vertical-align: middle;\n",
       "    }\n",
       "\n",
       "    .dataframe tbody tr th {\n",
       "        vertical-align: top;\n",
       "    }\n",
       "\n",
       "    .dataframe thead th {\n",
       "        text-align: right;\n",
       "    }\n",
       "</style>\n",
       "<table border=\"1\" class=\"dataframe\">\n",
       "  <thead>\n",
       "    <tr style=\"text-align: right;\">\n",
       "      <th></th>\n",
       "      <th>nJets</th>\n",
       "      <th>nBTags_70</th>\n",
       "      <th>pT_jet1</th>\n",
       "      <th>Mbb_MindR_70</th>\n",
       "      <th>pT_jet5</th>\n",
       "      <th>H1_all</th>\n",
       "      <th>dRbb_avg_70</th>\n",
       "      <th>dRlepbb_MindR_70</th>\n",
       "      <th>Muu_MindR_70</th>\n",
       "      <th>HT_jets</th>\n",
       "      <th>...</th>\n",
       "      <th>pT_jet5divhpmass</th>\n",
       "      <th>H1_alldivhpmass</th>\n",
       "      <th>dRbb_avg_70divhpmass</th>\n",
       "      <th>dRlepbb_MindR_70divhpmass</th>\n",
       "      <th>Muu_MindR_70divhpmass</th>\n",
       "      <th>HT_jetsdivhpmass</th>\n",
       "      <th>Mbb_MaxPt_70divhpmass</th>\n",
       "      <th>Mbb_MaxM_70divhpmass</th>\n",
       "      <th>Mjjj_MaxPtdivhpmass</th>\n",
       "      <th>Centrality_alldivhpmass</th>\n",
       "    </tr>\n",
       "  </thead>\n",
       "  <tbody>\n",
       "    <tr>\n",
       "      <th>212708</th>\n",
       "      <td>1.265312</td>\n",
       "      <td>-0.28289</td>\n",
       "      <td>-0.428175</td>\n",
       "      <td>0.485005</td>\n",
       "      <td>-0.01498</td>\n",
       "      <td>-0.802681</td>\n",
       "      <td>0.658018</td>\n",
       "      <td>0.560695</td>\n",
       "      <td>-0.566566</td>\n",
       "      <td>-0.274741</td>\n",
       "      <td>...</td>\n",
       "      <td>-0.519998</td>\n",
       "      <td>-0.600537</td>\n",
       "      <td>-0.531154</td>\n",
       "      <td>-0.397422</td>\n",
       "      <td>-0.554555</td>\n",
       "      <td>-0.614951</td>\n",
       "      <td>-0.531875</td>\n",
       "      <td>-0.744858</td>\n",
       "      <td>-0.586598</td>\n",
       "      <td>-0.426391</td>\n",
       "    </tr>\n",
       "  </tbody>\n",
       "</table>\n",
       "<p>1 rows × 27 columns</p>\n",
       "</div>"
      ],
      "text/plain": [
       "           nJets  nBTags_70   pT_jet1  Mbb_MindR_70  pT_jet5    H1_all  \\\n",
       "212708  1.265312   -0.28289 -0.428175      0.485005 -0.01498 -0.802681   \n",
       "\n",
       "        dRbb_avg_70  dRlepbb_MindR_70  Muu_MindR_70   HT_jets  ...  \\\n",
       "212708     0.658018          0.560695     -0.566566 -0.274741  ...   \n",
       "\n",
       "        pT_jet5divhpmass  H1_alldivhpmass  dRbb_avg_70divhpmass  \\\n",
       "212708         -0.519998        -0.600537             -0.531154   \n",
       "\n",
       "        dRlepbb_MindR_70divhpmass  Muu_MindR_70divhpmass  HT_jetsdivhpmass  \\\n",
       "212708                  -0.397422              -0.554555         -0.614951   \n",
       "\n",
       "        Mbb_MaxPt_70divhpmass  Mbb_MaxM_70divhpmass  Mjjj_MaxPtdivhpmass  \\\n",
       "212708              -0.531875             -0.744858            -0.586598   \n",
       "\n",
       "        Centrality_alldivhpmass  \n",
       "212708                -0.426391  \n",
       "\n",
       "[1 rows x 27 columns]"
      ]
     },
     "execution_count": 25,
     "metadata": {},
     "output_type": "execute_result"
    }
   ],
   "source": [
    "X_train[y_train==1000][:1].head()"
   ]
  },
  {
   "cell_type": "markdown",
   "metadata": {},
   "source": [
    "Last step. The NN need a binary classification..."
   ]
  },
  {
   "cell_type": "code",
   "execution_count": 26,
   "metadata": {},
   "outputs": [],
   "source": [
    "y_train=(y_train>0)\n",
    "y_test=(y_test>0)"
   ]
  },
  {
   "cell_type": "markdown",
   "metadata": {
    "colab_type": "text",
    "id": "sRVmzJUVk1pK"
   },
   "source": [
    "## NN\n",
    "\n"
   ]
  },
  {
   "cell_type": "markdown",
   "metadata": {
    "colab_type": "text",
    "id": "K6QlVoCLk_12"
   },
   "source": [
    "The NN that we use is big and simple:\n",
    "\n",
    "--> two hidden layers of 64 nodes with relu activation and no  regularizer\n",
    "\n",
    "--> dropout 0.1 ( for each epoch 10% of the conections are not used in the training )\n",
    "\n",
    "--> patience 5: if in 5 epochs the loss function is no timproving at all stop\n",
    "\n",
    "--> max 100 epochs with 50 bach sizes\n",
    "\n",
    "--> Output passes through a sigmoid (outpot 0 or 1)\n",
    "\n"
   ]
  },
  {
   "cell_type": "code",
   "execution_count": 27,
   "metadata": {
    "colab": {
     "base_uri": "https://localhost:8080/",
     "height": 666
    },
    "colab_type": "code",
    "id": "Ow-xp2KLlhug",
    "outputId": "cadc1f38-1f13-4856-c367-d03d4ff7c68f"
   },
   "outputs": [
    {
     "name": "stderr",
     "output_type": "stream",
     "text": [
      "W0728 21:57:26.405040 140426208696128 deprecation_wrapper.py:119] From /nfs/pic.es/user/s/salvador/.local/lib/python3.7/site-packages/keras/backend/tensorflow_backend.py:74: The name tf.get_default_graph is deprecated. Please use tf.compat.v1.get_default_graph instead.\n",
      "\n",
      "W0728 21:57:26.425451 140426208696128 deprecation.py:506] From /nfs/pic.es/user/s/salvador/.local/lib/python3.7/site-packages/keras/backend/tensorflow_backend.py:3445: calling dropout (from tensorflow.python.ops.nn_ops) with keep_prob is deprecated and will be removed in a future version.\n",
      "Instructions for updating:\n",
      "Please use `rate` instead of `keep_prob`. Rate should be set to `rate = 1 - keep_prob`.\n",
      "W0728 21:57:26.470958 140426208696128 deprecation_wrapper.py:119] From /nfs/pic.es/user/s/salvador/.local/lib/python3.7/site-packages/keras/optimizers.py:790: The name tf.train.Optimizer is deprecated. Please use tf.compat.v1.train.Optimizer instead.\n",
      "\n",
      "W0728 21:57:26.490854 140426208696128 deprecation.py:323] From /nfs/at3/scratch/salvador/Atf_gpu/lib/python3.7/site-packages/tensorflow/python/ops/nn_impl.py:180: add_dispatch_support.<locals>.wrapper (from tensorflow.python.ops.array_ops) is deprecated and will be removed in a future version.\n",
      "Instructions for updating:\n",
      "Use tf.where in 2.0, which has the same broadcast rule as np.where\n"
     ]
    },
    {
     "name": "stdout",
     "output_type": "stream",
     "text": [
      "_________________________________________________________________\n",
      "Layer (type)                 Output Shape              Param #   \n",
      "=================================================================\n",
      "dense_1 (Dense)              (None, 64)                1792      \n",
      "_________________________________________________________________\n",
      "dropout_1 (Dropout)          (None, 64)                0         \n",
      "_________________________________________________________________\n",
      "dense_2 (Dense)              (None, 64)                4160      \n",
      "_________________________________________________________________\n",
      "dropout_2 (Dropout)          (None, 64)                0         \n",
      "_________________________________________________________________\n",
      "dense_3 (Dense)              (None, 1)                 65        \n",
      "=================================================================\n",
      "Total params: 6,017\n",
      "Trainable params: 6,017\n",
      "Non-trainable params: 0\n",
      "_________________________________________________________________\n"
     ]
    }
   ],
   "source": [
    "import HpKerasUtils\n",
    "from keras.callbacks import Callback, EarlyStopping, ModelCheckpoint\n",
    "modelNN = HpKerasUtils.HpFeedForwardModel(configuration=[64,64],dropout=0.1, verbose=True, input_dim=X_train.shape[1])"
   ]
  },
  {
   "cell_type": "markdown",
   "metadata": {},
   "source": [
    "Once defined the structure of the NN, lets train\n",
    "Callbacks are functions to be applied between epochs. Our patience function is defined evaluation the loss on the testing sample to avoid overtraining.\n",
    "An epoch is defined when all the data is read by the NN.\n",
    "The batch size is the size of samples used to optimise the weights on each iteration. The higher the batch size, less times are the weights changed for the same number of epochs. Lower the batch size, more sensible is the training to individual \"extrange\" events."
   ]
  },
  {
   "cell_type": "code",
   "execution_count": 28,
   "metadata": {
    "colab": {
     "base_uri": "https://localhost:8080/",
     "height": 663
    },
    "colab_type": "code",
    "id": "-WNvyZjEnLIh",
    "outputId": "3c74be6f-5c01-4e9a-dd6f-b87eaea9f1b8"
   },
   "outputs": [
    {
     "name": "stdout",
     "output_type": "stream",
     "text": [
      "batch_size= 128\n",
      "Train on 1662533 samples, validate on 1676652 samples\n",
      "Epoch 1/100\n",
      "1662533/1662533 [==============================] - 140s 84us/step - loss: 6.7824e-07 - binary_accuracy: 0.6904 - val_loss: 6.4432e-07 - val_binary_accuracy: 0.7020\n",
      "Epoch 2/100\n",
      "1662533/1662533 [==============================] - 139s 83us/step - loss: 6.4321e-07 - binary_accuracy: 0.7084 - val_loss: 6.3863e-07 - val_binary_accuracy: 0.6931\n",
      "Epoch 3/100\n",
      "1662533/1662533 [==============================] - 137s 83us/step - loss: 6.3642e-07 - binary_accuracy: 0.7106 - val_loss: 6.3357e-07 - val_binary_accuracy: 0.7209\n",
      "Epoch 4/100\n",
      "1662533/1662533 [==============================] - 137s 82us/step - loss: 6.3253e-07 - binary_accuracy: 0.7126 - val_loss: 6.3296e-07 - val_binary_accuracy: 0.7069\n",
      "Epoch 5/100\n",
      "1662533/1662533 [==============================] - 138s 83us/step - loss: 6.3037e-07 - binary_accuracy: 0.7132 - val_loss: 6.3026e-07 - val_binary_accuracy: 0.7375\n",
      "Epoch 6/100\n",
      "1662533/1662533 [==============================] - 136s 82us/step - loss: 6.2755e-07 - binary_accuracy: 0.7166 - val_loss: 6.2938e-07 - val_binary_accuracy: 0.7170\n",
      "Epoch 7/100\n",
      "1662533/1662533 [==============================] - 138s 83us/step - loss: 6.2654e-07 - binary_accuracy: 0.7187 - val_loss: 6.2900e-07 - val_binary_accuracy: 0.7286\n",
      "Epoch 8/100\n",
      "1662533/1662533 [==============================] - 139s 83us/step - loss: 6.2485e-07 - binary_accuracy: 0.7190 - val_loss: 6.2785e-07 - val_binary_accuracy: 0.7138\n",
      "Epoch 9/100\n",
      "1662533/1662533 [==============================] - 137s 82us/step - loss: 6.2365e-07 - binary_accuracy: 0.7206 - val_loss: 6.2741e-07 - val_binary_accuracy: 0.7251\n",
      "Epoch 10/100\n",
      "1662533/1662533 [==============================] - 138s 83us/step - loss: 6.2234e-07 - binary_accuracy: 0.7223 - val_loss: 6.2672e-07 - val_binary_accuracy: 0.7335\n",
      "Epoch 11/100\n",
      "1662533/1662533 [==============================] - 138s 83us/step - loss: 6.2136e-07 - binary_accuracy: 0.7231 - val_loss: 6.2630e-07 - val_binary_accuracy: 0.7186\n",
      "Epoch 12/100\n",
      "1662533/1662533 [==============================] - 137s 83us/step - loss: 6.2042e-07 - binary_accuracy: 0.7242 - val_loss: 6.2654e-07 - val_binary_accuracy: 0.7293\n",
      "Epoch 13/100\n",
      "1662533/1662533 [==============================] - 134s 81us/step - loss: 6.1952e-07 - binary_accuracy: 0.7238 - val_loss: 6.2645e-07 - val_binary_accuracy: 0.7213\n",
      "Epoch 14/100\n",
      "1662533/1662533 [==============================] - 136s 82us/step - loss: 6.1853e-07 - binary_accuracy: 0.7247 - val_loss: 6.2623e-07 - val_binary_accuracy: 0.7396\n",
      "Epoch 15/100\n",
      "1662533/1662533 [==============================] - 137s 82us/step - loss: 6.1847e-07 - binary_accuracy: 0.7257 - val_loss: 6.2624e-07 - val_binary_accuracy: 0.7233\n",
      "Epoch 16/100\n",
      "1662533/1662533 [==============================] - 135s 81us/step - loss: 6.1825e-07 - binary_accuracy: 0.7247 - val_loss: 6.2560e-07 - val_binary_accuracy: 0.7248\n",
      "Epoch 17/100\n",
      "1662533/1662533 [==============================] - 135s 81us/step - loss: 6.1757e-07 - binary_accuracy: 0.7263 - val_loss: 6.2627e-07 - val_binary_accuracy: 0.7260\n",
      "Epoch 18/100\n",
      "1662533/1662533 [==============================] - 137s 83us/step - loss: 6.1644e-07 - binary_accuracy: 0.7263 - val_loss: 6.2501e-07 - val_binary_accuracy: 0.7350\n",
      "Epoch 19/100\n",
      "1662533/1662533 [==============================] - 137s 82us/step - loss: 6.1627e-07 - binary_accuracy: 0.7264 - val_loss: 6.2616e-07 - val_binary_accuracy: 0.7403\n",
      "Epoch 20/100\n",
      "1662533/1662533 [==============================] - 135s 81us/step - loss: 6.1563e-07 - binary_accuracy: 0.7247 - val_loss: 6.2664e-07 - val_binary_accuracy: 0.7058\n",
      "Epoch 21/100\n",
      "1662533/1662533 [==============================] - 137s 83us/step - loss: 6.1489e-07 - binary_accuracy: 0.7256 - val_loss: 6.2580e-07 - val_binary_accuracy: 0.7300\n",
      "Epoch 22/100\n",
      "1662533/1662533 [==============================] - 137s 82us/step - loss: 6.1470e-07 - binary_accuracy: 0.7267 - val_loss: 6.2589e-07 - val_binary_accuracy: 0.7241\n",
      "Epoch 23/100\n",
      "1662533/1662533 [==============================] - 136s 82us/step - loss: 6.1419e-07 - binary_accuracy: 0.7282 - val_loss: 6.2543e-07 - val_binary_accuracy: 0.7333\n"
     ]
    }
   ],
   "source": [
    "def getCallbacks(model): #Needed this in order to separate the initial model and the trained model\n",
    "    \"\"\" standard callbacks for Keras \"\"\"\n",
    "    return [\n",
    "        EarlyStopping(monitor='val_loss', patience=5, restore_best_weights=True),\n",
    "        ModelCheckpoint(filepath='model_nn_'+str(model.configuration)+\"_dropout\"+str(model.dropout)+\"_l2threshold\"+str(model.l2threshold)+\".hdf5\",\n",
    "                        monitor='val_loss',\n",
    "                        save_best_only=True)\n",
    "      ]\n",
    "  \n",
    "resultNN=modelNN.train((X_train.values, y_train.values, w_train.values),(X_test.values, y_test.values, w_test.values), patience=5,callbacks=getCallbacks(modelNN),batch_size=128)"
   ]
  },
  {
   "cell_type": "markdown",
   "metadata": {},
   "source": [
    "Once the training is done, is a nice thing to save the model with joblib.dump. This function saves any object into a file that can be loaded again with joblib.load"
   ]
  },
  {
   "cell_type": "code",
   "execution_count": 30,
   "metadata": {},
   "outputs": [
    {
     "name": "stdout",
     "output_type": "stream",
     "text": [
      "(0.8825458156694543, 0.8878050520635179)\n"
     ]
    }
   ],
   "source": [
    "joblib.dump(modelNN,\"test\")\n",
    "#Batch size 128 (0.8826080614096995, 0.8884649553535318) epochs 12 of 136s\n",
    "print(resultNN)"
   ]
  },
  {
   "cell_type": "markdown",
   "metadata": {},
   "source": [
    "Once saved, we can recover the trained model\n",
    "We could also do it using the model_from_json function."
   ]
  },
  {
   "cell_type": "code",
   "execution_count": 31,
   "metadata": {},
   "outputs": [
    {
     "data": {
      "text/plain": [
       "'\\nTo evaluate in C++ you also need extracted the standard scaler info\\nThis parser writes as it is needed\\nwith open(\\'variables.json\\',\"w+\") as outfile:\\n      outfile.write(\\'{\\n\\')\\n      outfile.write(\\'  \"inputs\": [\\n\\')\\n    for feat,mean,scale in zip(X_train.columns,wss.mean_,wss.scale_):\\n        outfile.write(\\'    {\\n\\')\\n        outfile.write(\\'      \"name\": \"\\'+feat+\\'\" ,\\n\\')\\n        outfile.write(\\'      \"offset\": \\'+str(-mean)+\" ,\\n\")\\n        outfile.write(\\'       \"scale\":\\'+str(1./scale)+\" \\n\")\\n        #print (feat,\"\\t\",-mean,1./scale)\\n        if feat==X_tr.columns[-1]: outfile.write(\\'    }\\n\\')\\n        else: outfile.write(\\'    },\\n\\')\\n    outfile.write(\\'  ],\\n\\')\\n    outfile.write(\\'  \"class_labels\": [\"\\'+region+\\'_\\'+datalabel+\\'\"]\\n\\')\\n    outfile.write(\\'}\\')    \\n'"
      ]
     },
     "execution_count": 31,
     "metadata": {},
     "output_type": "execute_result"
    }
   ],
   "source": [
    "modelNN = joblib.load(\"tutorial/modelNN_b128\")\n",
    "\n",
    "#####for a model saved as\n",
    "#arch_file=open('file.json','w')\n",
    "#arch_file.write(modelNN.model.to_json())\n",
    "#arch_file.close()\n",
    "#modelNN.model.save_weights('weights.h5')\n",
    "#####you can load the model as\n",
    "#json_file = open(\"file.json\")\n",
    "#loaded_model_json = json_file.read()\n",
    "#json_file.close()\n",
    "#modelNN = model_from_json(loaded_model_json)\n",
    "#modelNN.load_weights(\"weights.h5\")\n",
    "'''\n",
    "To evaluate in C++ you also need extracted the standard scaler info\n",
    "This parser writes as it is needed\n",
    "with open('variables.json',\"w+\") as outfile:\n",
    "      outfile.write('{\\n')\n",
    "      outfile.write('  \"inputs\": [\\n')\n",
    "    for feat,mean,scale in zip(X_train.columns,wss.mean_,wss.scale_):\n",
    "        outfile.write('    {\\n')\n",
    "        outfile.write('      \"name\": \"'+feat+'\" ,\\n')\n",
    "        outfile.write('      \"offset\": '+str(-mean)+\" ,\\n\")\n",
    "        outfile.write('       \"scale\":'+str(1./scale)+\" \\n\")\n",
    "        #print (feat,\"\\t\",-mean,1./scale)\n",
    "        if feat==X_tr.columns[-1]: outfile.write('    }\\n')\n",
    "        else: outfile.write('    },\\n')\n",
    "    outfile.write('  ],\\n')\n",
    "    outfile.write('  \"class_labels\": [\"'+region+'_'+datalabel+'\"]\\n')\n",
    "    outfile.write('}')    \n",
    "'''"
   ]
  },
  {
   "cell_type": "markdown",
   "metadata": {},
   "source": [
    "This HpFeedForwardModel object has a summary function built in"
   ]
  },
  {
   "cell_type": "code",
   "execution_count": 32,
   "metadata": {},
   "outputs": [
    {
     "data": {
      "image/png": "[encoded data removed]",
      "text/plain": [
       "<Figure size 432x288 with 1 Axes>"
      ]
     },
     "metadata": {
      "needs_background": "light"
     },
     "output_type": "display_data"
    },
    {
     "data": {
      "image/png": "[encoded data removed]",
      "text/plain": [
       "<Figure size 432x288 with 1 Axes>"
      ]
     },
     "metadata": {
      "needs_background": "light"
     },
     "output_type": "display_data"
    }
   ],
   "source": [
    "modelNN.plotTrainingValidation()"
   ]
  },
  {
   "cell_type": "markdown",
   "metadata": {},
   "source": [
    "## NN evaluation from scratch"
   ]
  },
  {
   "cell_type": "markdown",
   "metadata": {},
   "source": [
    "How can we evaluate individually each mass? We can do it in many ways\n",
    "Lets do it with a first mass and half of the training\n",
    "\n",
    "First, get the information with only the desired signal"
   ]
  },
  {
   "cell_type": "code",
   "execution_count": 33,
   "metadata": {},
   "outputs": [],
   "source": [
    "region = \"INC_ge6jge4b\"\n",
    "hpmass = 800\n",
    "htf=HpTrainingFrame.HpTrainingFrame(df_mc)\n",
    "X_train, X_test, X_eval, y_train, y_test,y_eval, w_train, w_test, w_eval=htf.prepare(hpmass=hpmass,region=region,addMass=True)"
   ]
  },
  {
   "cell_type": "markdown",
   "metadata": {},
   "source": [
    "As this is a parameterized NN, the input has to be the hpmass we want to evaluate"
   ]
  },
  {
   "cell_type": "code",
   "execution_count": 34,
   "metadata": {},
   "outputs": [
    {
     "data": {
      "text/html": [
       "<div>\n",
       "<style scoped>\n",
       "    .dataframe tbody tr th:only-of-type {\n",
       "        vertical-align: middle;\n",
       "    }\n",
       "\n",
       "    .dataframe tbody tr th {\n",
       "        vertical-align: top;\n",
       "    }\n",
       "\n",
       "    .dataframe thead th {\n",
       "        text-align: right;\n",
       "    }\n",
       "</style>\n",
       "<table border=\"1\" class=\"dataframe\">\n",
       "  <thead>\n",
       "    <tr style=\"text-align: right;\">\n",
       "      <th></th>\n",
       "      <th>nJets</th>\n",
       "      <th>nBTags_70</th>\n",
       "      <th>pT_jet1</th>\n",
       "      <th>Mbb_MindR_70</th>\n",
       "      <th>pT_jet5</th>\n",
       "      <th>H1_all</th>\n",
       "      <th>dRbb_avg_70</th>\n",
       "      <th>dRlepbb_MindR_70</th>\n",
       "      <th>Muu_MindR_70</th>\n",
       "      <th>HT_jets</th>\n",
       "      <th>Mbb_MaxPt_70</th>\n",
       "      <th>Mbb_MaxM_70</th>\n",
       "      <th>Mjjj_MaxPt</th>\n",
       "      <th>Centrality_all</th>\n",
       "      <th>hpmass</th>\n",
       "    </tr>\n",
       "  </thead>\n",
       "  <tbody>\n",
       "    <tr>\n",
       "      <th>120848</th>\n",
       "      <td>8</td>\n",
       "      <td>4</td>\n",
       "      <td>141608.875</td>\n",
       "      <td>63826.003906</td>\n",
       "      <td>81410.976562</td>\n",
       "      <td>0.001667</td>\n",
       "      <td>1.464466</td>\n",
       "      <td>2.993226</td>\n",
       "      <td>49279.46875</td>\n",
       "      <td>743148.875</td>\n",
       "      <td>118170.226562</td>\n",
       "      <td>162493.96875</td>\n",
       "      <td>155522.078125</td>\n",
       "      <td>0.538711</td>\n",
       "      <td>800</td>\n",
       "    </tr>\n",
       "  </tbody>\n",
       "</table>\n",
       "</div>"
      ],
      "text/plain": [
       "        nJets  nBTags_70     pT_jet1  Mbb_MindR_70       pT_jet5    H1_all  \\\n",
       "120848      8          4  141608.875  63826.003906  81410.976562  0.001667   \n",
       "\n",
       "        dRbb_avg_70  dRlepbb_MindR_70  Muu_MindR_70     HT_jets  \\\n",
       "120848     1.464466          2.993226   49279.46875  743148.875   \n",
       "\n",
       "         Mbb_MaxPt_70   Mbb_MaxM_70     Mjjj_MaxPt  Centrality_all  hpmass  \n",
       "120848  118170.226562  162493.96875  155522.078125        0.538711     800  "
      ]
     },
     "execution_count": 34,
     "metadata": {},
     "output_type": "execute_result"
    }
   ],
   "source": [
    "X_train[\"hpmass\"]=hpmass\n",
    "X_test[\"hpmass\"]=hpmass\n",
    "X_test.head(1)"
   ]
  },
  {
   "cell_type": "markdown",
   "metadata": {},
   "source": [
    "We also need to transform the input. The only classes needed are the feature divider and the scaler. Is very inportant to recover the original scaler of the training, as it defined the scale for the NN."
   ]
  },
  {
   "cell_type": "code",
   "execution_count": 35,
   "metadata": {},
   "outputs": [
    {
     "data": {
      "text/html": [
       "<div>\n",
       "<style scoped>\n",
       "    .dataframe tbody tr th:only-of-type {\n",
       "        vertical-align: middle;\n",
       "    }\n",
       "\n",
       "    .dataframe tbody tr th {\n",
       "        vertical-align: top;\n",
       "    }\n",
       "\n",
       "    .dataframe thead th {\n",
       "        text-align: right;\n",
       "    }\n",
       "</style>\n",
       "<table border=\"1\" class=\"dataframe\">\n",
       "  <thead>\n",
       "    <tr style=\"text-align: right;\">\n",
       "      <th></th>\n",
       "      <th>nJets</th>\n",
       "      <th>nBTags_70</th>\n",
       "      <th>pT_jet1</th>\n",
       "      <th>Mbb_MindR_70</th>\n",
       "      <th>pT_jet5</th>\n",
       "      <th>H1_all</th>\n",
       "      <th>dRbb_avg_70</th>\n",
       "      <th>dRlepbb_MindR_70</th>\n",
       "      <th>Muu_MindR_70</th>\n",
       "      <th>HT_jets</th>\n",
       "      <th>...</th>\n",
       "      <th>pT_jet5divhpmass</th>\n",
       "      <th>H1_alldivhpmass</th>\n",
       "      <th>dRbb_avg_70divhpmass</th>\n",
       "      <th>dRlepbb_MindR_70divhpmass</th>\n",
       "      <th>Muu_MindR_70divhpmass</th>\n",
       "      <th>HT_jetsdivhpmass</th>\n",
       "      <th>Mbb_MaxPt_70divhpmass</th>\n",
       "      <th>Mbb_MaxM_70divhpmass</th>\n",
       "      <th>Mjjj_MaxPtdivhpmass</th>\n",
       "      <th>Centrality_alldivhpmass</th>\n",
       "    </tr>\n",
       "  </thead>\n",
       "  <tbody>\n",
       "    <tr>\n",
       "      <th>120848</th>\n",
       "      <td>8</td>\n",
       "      <td>4</td>\n",
       "      <td>141608.875</td>\n",
       "      <td>63826.003906</td>\n",
       "      <td>81410.976562</td>\n",
       "      <td>0.001667</td>\n",
       "      <td>1.464466</td>\n",
       "      <td>2.993226</td>\n",
       "      <td>49279.46875</td>\n",
       "      <td>743148.875</td>\n",
       "      <td>...</td>\n",
       "      <td>101.763721</td>\n",
       "      <td>0.000002</td>\n",
       "      <td>0.001831</td>\n",
       "      <td>0.003742</td>\n",
       "      <td>61.599336</td>\n",
       "      <td>928.936094</td>\n",
       "      <td>147.712783</td>\n",
       "      <td>203.117461</td>\n",
       "      <td>194.402598</td>\n",
       "      <td>0.000673</td>\n",
       "    </tr>\n",
       "  </tbody>\n",
       "</table>\n",
       "<p>1 rows × 27 columns</p>\n",
       "</div>"
      ],
      "text/plain": [
       "        nJets  nBTags_70     pT_jet1  Mbb_MindR_70       pT_jet5    H1_all  \\\n",
       "120848      8          4  141608.875  63826.003906  81410.976562  0.001667   \n",
       "\n",
       "        dRbb_avg_70  dRlepbb_MindR_70  Muu_MindR_70     HT_jets  ...  \\\n",
       "120848     1.464466          2.993226   49279.46875  743148.875  ...   \n",
       "\n",
       "        pT_jet5divhpmass  H1_alldivhpmass  dRbb_avg_70divhpmass  \\\n",
       "120848        101.763721         0.000002              0.001831   \n",
       "\n",
       "        dRlepbb_MindR_70divhpmass  Muu_MindR_70divhpmass  HT_jetsdivhpmass  \\\n",
       "120848                   0.003742              61.599336        928.936094   \n",
       "\n",
       "        Mbb_MaxPt_70divhpmass  Mbb_MaxM_70divhpmass  Mjjj_MaxPtdivhpmass  \\\n",
       "120848             147.712783            203.117461           194.402598   \n",
       "\n",
       "        Centrality_alldivhpmass  \n",
       "120848                 0.000673  \n",
       "\n",
       "[1 rows x 27 columns]"
      ]
     },
     "execution_count": 35,
     "metadata": {},
     "output_type": "execute_result"
    }
   ],
   "source": [
    "#First the feature divider\n",
    "fd = FeatureDivider(\"hpmass\")\n",
    "X_test, y_test, w_test = fd.transform(X_test,y_test,w_test)\n",
    "X_train, y_train, w_train = fd.transform(X_train,y_train,w_train)\n",
    "X_test.head(1)"
   ]
  },
  {
   "cell_type": "code",
   "execution_count": 36,
   "metadata": {},
   "outputs": [
    {
     "name": "stdout",
     "output_type": "stream",
     "text": [
      "(93052, 27) [ 0  1  2  3  4  5  6  7  8  9 10 11 12 13 14 15 16 17 18 19 20 21 22 23\n",
      " 24 25 26]\n"
     ]
    },
    {
     "data": {
      "text/html": [
       "<div>\n",
       "<style scoped>\n",
       "    .dataframe tbody tr th:only-of-type {\n",
       "        vertical-align: middle;\n",
       "    }\n",
       "\n",
       "    .dataframe tbody tr th {\n",
       "        vertical-align: top;\n",
       "    }\n",
       "\n",
       "    .dataframe thead th {\n",
       "        text-align: right;\n",
       "    }\n",
       "</style>\n",
       "<table border=\"1\" class=\"dataframe\">\n",
       "  <thead>\n",
       "    <tr style=\"text-align: right;\">\n",
       "      <th></th>\n",
       "      <th>nJets</th>\n",
       "      <th>nBTags_70</th>\n",
       "      <th>pT_jet1</th>\n",
       "      <th>Mbb_MindR_70</th>\n",
       "      <th>pT_jet5</th>\n",
       "      <th>H1_all</th>\n",
       "      <th>dRbb_avg_70</th>\n",
       "      <th>dRlepbb_MindR_70</th>\n",
       "      <th>Muu_MindR_70</th>\n",
       "      <th>HT_jets</th>\n",
       "      <th>...</th>\n",
       "      <th>pT_jet5divhpmass</th>\n",
       "      <th>H1_alldivhpmass</th>\n",
       "      <th>dRbb_avg_70divhpmass</th>\n",
       "      <th>dRlepbb_MindR_70divhpmass</th>\n",
       "      <th>Muu_MindR_70divhpmass</th>\n",
       "      <th>HT_jetsdivhpmass</th>\n",
       "      <th>Mbb_MaxPt_70divhpmass</th>\n",
       "      <th>Mbb_MaxM_70divhpmass</th>\n",
       "      <th>Mjjj_MaxPtdivhpmass</th>\n",
       "      <th>Centrality_alldivhpmass</th>\n",
       "    </tr>\n",
       "  </thead>\n",
       "  <tbody>\n",
       "    <tr>\n",
       "      <th>120848</th>\n",
       "      <td>0.533295</td>\n",
       "      <td>-0.28289</td>\n",
       "      <td>-0.597911</td>\n",
       "      <td>-0.476064</td>\n",
       "      <td>0.674171</td>\n",
       "      <td>-0.99547</td>\n",
       "      <td>-2.179432</td>\n",
       "      <td>0.823805</td>\n",
       "      <td>-0.516831</td>\n",
       "      <td>-0.069469</td>\n",
       "      <td>...</td>\n",
       "      <td>-0.047401</td>\n",
       "      <td>-0.66115</td>\n",
       "      <td>-0.738558</td>\n",
       "      <td>-0.154794</td>\n",
       "      <td>-0.49164</td>\n",
       "      <td>-0.322726</td>\n",
       "      <td>-0.526912</td>\n",
       "      <td>-0.785533</td>\n",
       "      <td>-0.650884</td>\n",
       "      <td>-0.488486</td>\n",
       "    </tr>\n",
       "  </tbody>\n",
       "</table>\n",
       "<p>1 rows × 27 columns</p>\n",
       "</div>"
      ],
      "text/plain": [
       "           nJets  nBTags_70   pT_jet1  Mbb_MindR_70   pT_jet5   H1_all  \\\n",
       "120848  0.533295   -0.28289 -0.597911     -0.476064  0.674171 -0.99547   \n",
       "\n",
       "        dRbb_avg_70  dRlepbb_MindR_70  Muu_MindR_70   HT_jets  ...  \\\n",
       "120848    -2.179432          0.823805     -0.516831 -0.069469  ...   \n",
       "\n",
       "        pT_jet5divhpmass  H1_alldivhpmass  dRbb_avg_70divhpmass  \\\n",
       "120848         -0.047401         -0.66115             -0.738558   \n",
       "\n",
       "        dRlepbb_MindR_70divhpmass  Muu_MindR_70divhpmass  HT_jetsdivhpmass  \\\n",
       "120848                  -0.154794               -0.49164         -0.322726   \n",
       "\n",
       "        Mbb_MaxPt_70divhpmass  Mbb_MaxM_70divhpmass  Mjjj_MaxPtdivhpmass  \\\n",
       "120848              -0.526912             -0.785533            -0.650884   \n",
       "\n",
       "        Centrality_alldivhpmass  \n",
       "120848                -0.488486  \n",
       "\n",
       "[1 rows x 27 columns]"
      ]
     },
     "execution_count": 36,
     "metadata": {},
     "output_type": "execute_result"
    }
   ],
   "source": [
    "#Second the standard scaler from the training.\n",
    "#If we wanted to evaluate the X_train, we should transform using the wss from the other training\n",
    "X_test, y_test, w_test = wss.transform(X_test,y_test,w_test)\n",
    "X_test.head(1)"
   ]
  },
  {
   "cell_type": "markdown",
   "metadata": {},
   "source": [
    "Once the input for the evaluation is ready we can call the predict function and check some of the events for example. We usually consider signal if the prediction is >0.5"
   ]
  },
  {
   "cell_type": "code",
   "execution_count": 37,
   "metadata": {},
   "outputs": [
    {
     "name": "stdout",
     "output_type": "stream",
     "text": [
      "bkg  predicted-> 0.21105865\n",
      "bkg  predicted-> 0.24932075\n",
      "bkg  predicted-> 0.1739341\n",
      "bkg  predicted-> 0.39397964\n",
      "bkg  predicted-> 0.62132764\n",
      "signal predicted-> 0.95648456\n",
      "signal predicted-> 0.5910919\n",
      "signal predicted-> 0.557812\n",
      "signal predicted-> 0.8312478\n",
      "signal predicted-> 0.53806865\n",
      "The AUC value is 0.886263852393158\n"
     ]
    }
   ],
   "source": [
    "from sklearn.metrics import roc_auc_score, roc_curve\n",
    "y_test_pred = modelNN.model.predict(X_test).ravel()\n",
    "for label in [0,1]:\n",
    "    for pred, truth in zip(y_test_pred[y_test==label],y_test[y_test==label][:5]):\n",
    "        print(\"bkg \" if label==0 else \"signal\" , \"predicted->\",pred)\n",
    "roc_auc = roc_auc_score(y_test,y_test_pred,sample_weight=w_test)\n",
    "print(\"The AUC value is\",roc_auc)\n",
    "fpr, tpr, thresholds = roc_curve(y_test, y_test_pred, sample_weight = w_test)"
   ]
  },
  {
   "cell_type": "code",
   "execution_count": 38,
   "metadata": {},
   "outputs": [
    {
     "data": {
      "image/png": "[encoded data removed]",
      "text/plain": [
       "<Figure size 432x288 with 1 Axes>"
      ]
     },
     "metadata": {
      "needs_background": "light"
     },
     "output_type": "display_data"
    },
    {
     "data": {
      "image/png": "[encoded data removed]",
      "text/plain": [
       "<Figure size 432x288 with 1 Axes>"
      ]
     },
     "metadata": {
      "needs_background": "light"
     },
     "output_type": "display_data"
    }
   ],
   "source": [
    "import matplotlib.pyplot as plt\n",
    "plt.plot(fpr, tpr, lw=1, label='ROC (area = %0.2f)'%(roc_auc))\n",
    "plt.plot([0, 1], [0, 1], '--', color=(0.6, 0.6, 0.6), label='Luck')\n",
    "plt.xlim([-0.05, 1.05])\n",
    "plt.ylim([-0.05, 1.05])\n",
    "plt.xlabel('False Positive Rate')\n",
    "plt.ylabel('True Positive Rate')\n",
    "plt.title('Receiver operating characteristic')\n",
    "plt.legend(loc=\"lower right\")\n",
    "plt.grid()\n",
    "plt.show()\n",
    "\n",
    "bins = 50\n",
    "plt.hist(y_test_pred[y_test>0.5],alpha=0.5,color='r',bins=bins, density=True,label=\"Signal\")\n",
    "plt.hist(y_test_pred[y_test<0.5],alpha=0.5,color='b',bins=bins, density=True,label=\"Background\")\n",
    "plt.xlabel(\"mass paramatrised NN score\")\n",
    "plt.legend(loc=\"best\")\n",
    "plt.show()"
   ]
  }
 ],
 "metadata": {
  "accelerator": "GPU",
  "colab": {
   "collapsed_sections": [],
   "name": "Colab_MP-NNtutorialwtf.ipynb",
   "provenance": [],
   "toc_visible": true,
   "version": "0.3.2"
  },
  "kernelspec": {
   "display_name": "Atf_gpu2",
   "language": "python",
   "name": "atf_gpu2"
  },
  "language_info": {
   "codemirror_mode": {
    "name": "ipython",
    "version": 3
   },
   "file_extension": ".py",
   "mimetype": "text/x-python",
   "name": "python",
   "nbconvert_exporter": "python",
   "pygments_lexer": "ipython3",
   "version": "3.7.1"
  }
 },
 "nbformat": 4,
 "nbformat_minor": 4
}
