{
 "cells": [
  {
   "cell_type": "markdown",
   "metadata": {},
   "source": [
    "# Notebook to study the pT distribution of the b-quark from H+->tb for m(H+)~m(top)"
   ]
  },
  {
   "cell_type": "markdown",
   "metadata": {},
   "source": [
    "use this notebook with setup_atop.sh"
   ]
  },
  {
   "cell_type": "code",
   "execution_count": 2,
   "metadata": {},
   "outputs": [
    {
     "ename": "AttributeError",
     "evalue": "xAOD",
     "output_type": "error",
     "traceback": [
      "\u001b[0;31m---------------------------------------------------------------------------\u001b[0m",
      "\u001b[0;31mAttributeError\u001b[0m                            Traceback (most recent call last)",
      "\u001b[0;32m<ipython-input-2-3f94e0590395>\u001b[0m in \u001b[0;36m<module>\u001b[0;34m\u001b[0m\n\u001b[1;32m      2\u001b[0m \u001b[0;32mimport\u001b[0m \u001b[0mROOT\u001b[0m\u001b[0;34m\u001b[0m\u001b[0m\n\u001b[1;32m      3\u001b[0m \u001b[0mget_ipython\u001b[0m\u001b[0;34m(\u001b[0m\u001b[0;34m)\u001b[0m\u001b[0;34m.\u001b[0m\u001b[0mrun_line_magic\u001b[0m\u001b[0;34m(\u001b[0m\u001b[0;34m'jsroot'\u001b[0m\u001b[0;34m,\u001b[0m \u001b[0;34m'on'\u001b[0m\u001b[0;34m)\u001b[0m\u001b[0;34m\u001b[0m\u001b[0m\n\u001b[0;32m----> 4\u001b[0;31m \u001b[0;32mif\u001b[0m\u001b[0;34m(\u001b[0m\u001b[0;32mnot\u001b[0m \u001b[0mROOT\u001b[0m\u001b[0;34m.\u001b[0m\u001b[0mxAOD\u001b[0m\u001b[0;34m.\u001b[0m\u001b[0mInit\u001b[0m\u001b[0;34m(\u001b[0m\u001b[0;34m)\u001b[0m\u001b[0;34m.\u001b[0m\u001b[0misSuccess\u001b[0m\u001b[0;34m(\u001b[0m\u001b[0;34m)\u001b[0m\u001b[0;34m)\u001b[0m\u001b[0;34m:\u001b[0m \u001b[0mprint\u001b[0m\u001b[0;34m(\u001b[0m\u001b[0;34m\"Failed xAOD.Init()\"\u001b[0m\u001b[0;34m)\u001b[0m\u001b[0;34m\u001b[0m\u001b[0m\n\u001b[0m",
      "\u001b[0;32m/cvmfs/sft.cern.ch/lcg/views/LCG_94python3/x86_64-centos7-gcc7-opt/lib/ROOT.py\u001b[0m in \u001b[0;36m__getattr2\u001b[0;34m(self, name)\u001b[0m\n\u001b[1;32m    611\u001b[0m \u001b[0;34m\u001b[0m\u001b[0m\n\u001b[1;32m    612\u001b[0m     \u001b[0;31m# reaching this point means failure ...\u001b[0m\u001b[0;34m\u001b[0m\u001b[0;34m\u001b[0m\u001b[0m\n\u001b[0;32m--> 613\u001b[0;31m       \u001b[0;32mraise\u001b[0m \u001b[0mAttributeError\u001b[0m\u001b[0;34m(\u001b[0m \u001b[0mname\u001b[0m \u001b[0;34m)\u001b[0m\u001b[0;34m\u001b[0m\u001b[0m\n\u001b[0m\u001b[1;32m    614\u001b[0m \u001b[0;34m\u001b[0m\u001b[0m\n\u001b[1;32m    615\u001b[0m    \u001b[0;32mdef\u001b[0m \u001b[0m__delattr__\u001b[0m\u001b[0;34m(\u001b[0m \u001b[0mself\u001b[0m\u001b[0;34m,\u001b[0m \u001b[0mname\u001b[0m \u001b[0;34m)\u001b[0m\u001b[0;34m:\u001b[0m\u001b[0;34m\u001b[0m\u001b[0m\n",
      "\u001b[0;31mAttributeError\u001b[0m: xAOD"
     ]
    }
   ],
   "source": [
    "from __future__ import print_function\n",
    "import ROOT\n",
    "%jsroot on\n",
    "if(not ROOT.xAOD.Init().isSuccess()): print(\"Failed xAOD.Init()\")"
   ]
  },
  {
   "cell_type": "code",
   "execution_count": null,
   "metadata": {},
   "outputs": [],
   "source": [
    "treeName = \"CollectionTree\"\n",
    "file=ROOT.TFile(\"output.root\",\"RECREATE\")\n",
    "\n",
    "#get a histogram for a given H+ mass\n",
    "def gethist(hpmass):\n",
    "    matchingthreshold=0.4\n",
    "    \n",
    "    read_file = \"/eos/user/j/jglatzer/lowmasshptruth/daod_truth1_\"+str(hpmass)+\".root\"\n",
    "    rf = ROOT.TFile.Open(read_file)\n",
    "    t = ROOT.xAOD.MakeTransientTree(rf, treeName)\n",
    "    histquark=ROOT.TH1F(\"bquarkpt\"+str(hpmass),\"bquarkpt\"+str(hpmass),100,0,200) #100 bins between 0 and 200 GeV\n",
    "    histjet=ROOT.TH1F(\"bjet\"+str(hpmass),\"bjetpt\"+str(hpmass),100,0,200) #100 bins between 0 and 200 GeV\n",
    "    total = t.GetEntries()\n",
    "    for entry in xrange( 0,total): # for entry in [0]:\n",
    "\n",
    "        t.GetEntry( entry )\n",
    "\n",
    "        for ni in xrange( t.TruthParticles.size()):\n",
    "            tr = t.TruthParticles[ni]\n",
    "            tr_id = tr.pdgId()\n",
    "            tr_pt = tr.pt()\n",
    "            tr_eta = tr.eta()\n",
    "            tr_phi = tr.phi()\n",
    "            tr_barcode = tr.barcode()\n",
    "            tr_nChildren = tr.nChildren()\n",
    "            tr_nParents = tr.nParents()\n",
    "            barcodes=\"\"\n",
    "\n",
    "            for ic in xrange( tr_nChildren ):\n",
    "                if tr.child(ic):\n",
    "                    barcodes=barcodes+\",\"+str(tr.child(ic).barcode() )\n",
    "            parentbarcodes=\"\"\n",
    "            for ic in xrange( tr_nParents ):\n",
    "                if tr.parent(ic):\n",
    "                    parentbarcodes=parentbarcodes+\",\"+str(tr.parent(ic).barcode() )+\"/\"+str(tr.parent(ic).pdgId())\n",
    "        \n",
    "            if abs(tr_id)==5 and abs(tr.parent(ic).pdgId())==37:\n",
    "                histquark.Fill(tr_pt/1000.)\n",
    "                #now match it to a jet\n",
    "                quark=ROOT.TVector3()\n",
    "                quark.SetPtEtaPhi(tr_pt, tr_eta, tr_phi)\n",
    "                \n",
    "                mindR=1000000000.\n",
    "                mindRpt=-20000. #default value\n",
    "                for nj in xrange( t.AntiKt4TruthJets.size()):\n",
    "                    tj = t.AntiKt4TruthJets[nj]\n",
    "                    jet_pt=tj.pt()\n",
    "                    jet_eta=tj.eta()\n",
    "                    jet_phi=tj.phi()\n",
    "                    jet=ROOT.TVector3()\n",
    "                    jet.SetPtEtaPhi(jet_pt, jet_eta, jet_phi)\n",
    "                    dR=jet.DeltaR(quark)\n",
    "                    \n",
    "                    if dR<matchingthreshold and dR<mindR:\n",
    "                        mindR=dR\n",
    "                        mindRpt=jet_pt\n",
    "\n",
    "                histjet.Fill(mindRpt/1000.)\n",
    "\n",
    "    return histquark,histjet"
   ]
  },
  {
   "cell_type": "code",
   "execution_count": null,
   "metadata": {},
   "outputs": [],
   "source": [
    "cquark={}\n",
    "cjet={}\n",
    "histquark={}\n",
    "histjet={}\n",
    "def plot(mass):\n",
    "    histquark[mass],histjet[mass]=gethist(mass)\n",
    "    cquark[mass] = ROOT.TCanvas(\"cquark\"+str(mass))\n",
    "    histquark[mass].Draw()\n",
    "    cquark[mass].Draw()\n",
    "    cjet[mass] = ROOT.TCanvas(\"cjet\"+str(mass))\n",
    "    histjet[mass].Draw()\n",
    "    cjet[mass].Draw()\n",
    "    \n",
    "    bin20quark=histquark[mass].FindBin(20)\n",
    "    q_eff=0.\n",
    "    for i in range(bin20quark,histquark[mass].GetNbinsX()+2):\n",
    "        q_eff+=histquark[mass].GetBinContent(i)\n",
    "\n",
    "    bin20jet=histjet[mass].FindBin(20)\n",
    "    j_eff=0.\n",
    "    for i in range(bin20jet,histjet[mass].GetNbinsX()+2):\n",
    "        j_eff+=histjet[mass].GetBinContent(i)\n",
    "\n",
    "    q_eff/=histquark[mass].GetSumOfWeights()\n",
    "    j_eff/=histjet[mass].GetSumOfWeights()\n",
    "    print(\"quark efficiency:\", q_eff, \"jet efficiency:\", j_eff)"
   ]
  },
  {
   "cell_type": "code",
   "execution_count": null,
   "metadata": {
    "scrolled": false
   },
   "outputs": [],
   "source": [
    "plot(180)"
   ]
  },
  {
   "cell_type": "code",
   "execution_count": null,
   "metadata": {
    "scrolled": false
   },
   "outputs": [],
   "source": [
    "plot(185)"
   ]
  },
  {
   "cell_type": "code",
   "execution_count": null,
   "metadata": {},
   "outputs": [],
   "source": [
    "plot(190)"
   ]
  },
  {
   "cell_type": "code",
   "execution_count": null,
   "metadata": {},
   "outputs": [],
   "source": [
    "plot(195)"
   ]
  }
 ],
 "metadata": {
  "kernelspec": {
   "display_name": "Python 3",
   "language": "python",
   "name": "python3"
  },
  "language_info": {
   "codemirror_mode": {
    "name": "ipython",
    "version": 3
   },
   "file_extension": ".py",
   "mimetype": "text/x-python",
   "name": "python",
   "nbconvert_exporter": "python",
   "pygments_lexer": "ipython3",
   "version": "3.5.2"
  }
 },
 "nbformat": 4,
 "nbformat_minor": 2
}
